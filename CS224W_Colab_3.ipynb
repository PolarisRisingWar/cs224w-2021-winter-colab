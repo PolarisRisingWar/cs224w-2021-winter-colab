{
 "cells": [
  {
   "cell_type": "code",
   "execution_count": 1,
   "metadata": {},
   "outputs": [],
   "source": [
    "#PRW\n",
    "#这个colab里面需要补习的知识点：GraphSAGE和GAT的模型原理（尤其是attention机制）\n",
    "#model.train()    model.eval()    no_grad()"
   ]
  },
  {
   "cell_type": "markdown",
   "metadata": {
    "id": "XuXWJLEm2UWS"
   },
   "source": [
    "# **CS224W - Colab 3**"
   ]
  },
  {
   "cell_type": "markdown",
   "metadata": {
    "id": "8gzsP50bF6Gb"
   },
   "source": [
    "In Colab 2 we constructed GNN models by using PyTorch Geometric built in GCN layer, the `GCNConv`. In this Colab we will implement the **GraphSAGE** ([Hamilton et al. (2017)](https://arxiv.org/abs/1706.02216)) and **GAT** ([Veličković et al. (2018)](https://arxiv.org/abs/1710.10903)) layers directly. Then we will run our models on the CORA dataset, which is a standard citation network benchmark dataset.\n",
    "\n",
    "We will then use [DeepSNAP](https://snap.stanford.edu/deepsnap/), a Python library assisting efficient deep learning on graphs, to split the graphs in different settings and apply dataset transformations.\n",
    "\n",
    "At last, using DeepSNAP transductive link prediction split functionality, we will construct a simple GNN model on the edge property predition (link prediction) task.\n",
    "\n",
    "**Note**: Make sure to **sequentially run all the cells in each section**, so that the intermediate variables / packages will carry over to the next cell\n",
    "\n",
    "Have fun on Colab 3 :)"
   ]
  },
  {
   "cell_type": "code",
   "execution_count": 2,
   "metadata": {
    "id": "PRfgbfTjCRD_"
   },
   "outputs": [
    {
     "data": {
      "text/plain": [
       "'1.6.3'"
      ]
     },
     "execution_count": 2,
     "metadata": {},
     "output_type": "execute_result"
    }
   ],
   "source": [
    "import torch_geometric\n",
    "torch_geometric.__version__"
   ]
  },
  {
   "cell_type": "markdown",
   "metadata": {
    "id": "ZoXlf4MtYrbz"
   },
   "source": [
    "# 1 GNN Layers"
   ]
  },
  {
   "cell_type": "markdown",
   "metadata": {
    "id": "TQy2RBfgYut4"
   },
   "source": [
    "## Implementing Layer Modules\n",
    "\n",
    "In colab 2, we implemented a network using GCN in node and graph classification tasks. However, the GCN module we used in colab 2 is from the official library. For this problem, we will provide you with a general Graph Neural Network Stack, where you'll be able to plugin your own modules of GraphSAGE and GATs. We will use our implementations to complete node classification on CORA, which is a standard citation network benchmark dataset. In this dataset, nodes correspond to documents and edges correspond to undirected citations. Each node has a class label. The node features are elements of a bag-or-words representation of a document. For the Cora dataset, there are 2708 nodes, 5429 edges, 7 prediction classes for nodes, and 1433 features per node. "
   ]
  },
  {
   "cell_type": "markdown",
   "metadata": {
    "id": "H4ne6Gw-CT5G"
   },
   "source": [
    "## GNN Stack Module\n",
    "\n",
    "Below is the implementation for a general GNN Module that could plugin any layers, including **GraphSage**, **GAT**, etc. This module is provided for you, and your own **GraphSage** and **GAT** layers will function as components in the GNNStack Module."
   ]
  },
  {
   "cell_type": "code",
   "execution_count": 3,
   "metadata": {
    "id": "Ys8vZAFPCWWe"
   },
   "outputs": [],
   "source": [
    "import torch\n",
    "import torch_scatter\n",
    "import torch.nn as nn\n",
    "import torch.nn.functional as F\n",
    "\n",
    "import torch_geometric.nn as pyg_nn\n",
    "import torch_geometric.utils as pyg_utils\n",
    "\n",
    "from torch import Tensor\n",
    "from typing import Union, Tuple, Optional\n",
    "from torch_geometric.typing import (OptPairTensor, Adj, Size, NoneType,\n",
    "                                    OptTensor)\n",
    "\n",
    "from torch.nn import Parameter, Linear\n",
    "#PRW：https://pytorch.org/docs/stable/generated/torch.nn.parameter.Parameter.html\n",
    "from torch_sparse import SparseTensor, set_diag\n",
    "from torch_geometric.nn.conv import MessagePassing\n",
    "from torch_geometric.utils import remove_self_loops, add_self_loops, softmax\n",
    "\n",
    "class GNNStack(torch.nn.Module):\n",
    "    def __init__(self, input_dim, hidden_dim, output_dim, args, emb=False):\n",
    "        super(GNNStack, self).__init__()\n",
    "        conv_model = self.build_conv_model(args.model_type)  #GraphSage / GAT\n",
    "        self.convs = nn.ModuleList()\n",
    "        self.convs.append(conv_model(input_dim, hidden_dim))\n",
    "        assert (args.num_layers >= 1), 'Number of layers is not >=1'\n",
    "        #Python assert（断言）用于判断一个表达式，在表达式条件为 false 的时候触发异常。\n",
    "        for l in range(args.num_layers-1):\n",
    "            self.convs.append(conv_model(args.heads * hidden_dim, hidden_dim))  \n",
    "            #PRW：下面GAT部分意思似乎是在这里做修改，但是我看这意思是已经改好了？不过其实我没看懂，等我以后回来再研究\n",
    "\n",
    "        # post-message-passing\n",
    "        self.post_mp = nn.Sequential(\n",
    "            nn.Linear(args.heads * hidden_dim, hidden_dim), nn.Dropout(args.dropout), \n",
    "            nn.Linear(hidden_dim, output_dim))\n",
    "\n",
    "        self.dropout = args.dropout\n",
    "        self.num_layers = args.num_layers\n",
    "\n",
    "        self.emb = emb\n",
    "\n",
    "    def build_conv_model(self, model_type):\n",
    "        if model_type == 'GraphSage':\n",
    "            return GraphSage\n",
    "        elif model_type == 'GAT':\n",
    "            # When applying GAT with num heads > 1, one needs to modify the \n",
    "            # input and output dimension of the conv layers (self.convs),\n",
    "            # to ensure that the input dim of the next layer is num heads\n",
    "            # multiplied by the output dim of the previous layer.\n",
    "            # HINT: In case you want to play with multiheads, you need to change the for-loop when builds up self.convs to be\n",
    "            # self.convs.append(conv_model(hidden_dim * num_heads, hidden_dim)), \n",
    "            # and also the first nn.Linear(hidden_dim * num_heads, hidden_dim) in post-message-passing.\n",
    "            return GAT\n",
    "        #PRW：大概理解就是如果heads大于1，卷积层的输入输出维度就都需要改成下一层输入维度是前一层输出维度乘heads\n",
    "        #这部分还没看懂，以后回来重看\n",
    "\n",
    "    def forward(self, data):\n",
    "        x, edge_index, batch = data.x, data.edge_index, data.batch\n",
    "          \n",
    "        for i in range(self.num_layers):\n",
    "            x = self.convs[i](x, edge_index)\n",
    "            x = F.relu(x)\n",
    "            x = F.dropout(x, p=self.dropout)\n",
    "\n",
    "        x = self.post_mp(x)\n",
    "\n",
    "        if self.emb == True:\n",
    "            return x\n",
    "\n",
    "        return F.log_softmax(x, dim=1)\n",
    "    #Applies a softmax followed by a logarithm.\n",
    "    #https://pytorch.org/docs/stable/nn.functional.html#torch.nn.functional.log_softmax\n",
    "\n",
    "    def loss(self, pred, label):\n",
    "        return F.nll_loss(pred, label)    \n",
    "    #The negative log likelihood loss.\n",
    "    #https://pytorch.org/docs/stable/_modules/torch/nn/functional.html#nll_loss"
   ]
  },
  {
   "cell_type": "code",
   "execution_count": 4,
   "metadata": {},
   "outputs": [
    {
     "name": "stdout",
     "output_type": "stream",
     "text": [
      "tensor([[[-0.0865,  0.1741, -0.0227],\n",
      "         [ 1.2644, -1.2028,  0.1233]]])\n",
      "tensor([[[-1.5813, -0.2250, -0.7688],\n",
      "         [-0.2303, -1.6019, -0.6228]]])\n"
     ]
    }
   ],
   "source": [
    "#PRW\n",
    "eg_ls=nn.LogSoftmax(dim=1)  #dim值是必须要的\n",
    "eg_tensor=torch.randn(1,2,3)\n",
    "eg_result=eg_ls(eg_tensor)\n",
    "print(eg_tensor)\n",
    "print(eg_result)"
   ]
  },
  {
   "cell_type": "markdown",
   "metadata": {
    "id": "syDtxjxoCZgq"
   },
   "source": [
    "## GraphSage Implementation\n",
    "\n",
    "Now let's start working on our own implementation of layers! This part is to get you familiar with how to implement Pytorch layer based on Message Passing. You will be implementing the **forward**, **message** and **aggregate** functions.\n",
    "\n",
    "Generally, the **forward** function is where the actual message passing is conducted. All logic in each iteration happens in **forward**, where we'll call **propagate** function to propagate information from neighbor nodes to central nodes.  So the general paradigm will be pre-processing -> propagate -> post-processing.\n",
    "\n",
    "Recall the process of message passing we introduced in homework 1. **propagate** further calls **message** which transforms information of neighbor nodes into messages, **aggregate** which aggregates all messages from neighbor nodes into one, and **update** which further generates the embedding for nodes in the next iteration.\n",
    "\n",
    "Our implementation is slightly variant from this, where we'll not explicitly implement **update**, but put the logic for updating nodes in **forward** function. To be more specific, after information is propagated, we can further conduct some operations on the output of **propagate**. The output of **forward** is exactly the embeddings after the current iteration.\n",
    "\n",
    "In addition, tensors passed to **propagate()** can be mapped to the respective nodes $i$ and $j$ by appending _i or _j to the variable name, .e.g. x_i and x_j. Note that we generally refer to $i$ as the central nodes that aggregates information, and refer to $j$ as the neighboring nodes, since this is the most common notation.\n",
    "\n",
    "Please find more details in the comments. One thing to note is that we're adding **skip connections** to our GraphSage. Formally, the update rule for our model is described as below:\n",
    "\n",
    "\\begin{equation}\n",
    "h_v^{(l)} = W_l\\cdot h_v^{(l-1)} + W_r \\cdot AGG(\\{h_u^{(l-1)}, \\forall u \\in N(v) \\})\n",
    "\\end{equation}\n",
    "\n",
    "For simplicity, we use mean aggregations where:\n",
    "\n",
    "\\begin{equation}\n",
    "AGG(\\{h_u^{(l-1)}, \\forall u \\in N(v) \\}) = \\frac{1}{|N(v)|} \\sum_{u\\in N(v)} h_u^{(l-1)}\n",
    "\\end{equation}\n",
    "\n",
    "Additionally, $\\ell$-2 normalization is applied after each iteration.\n",
    "\n",
    "In order to complete the work correctly, we have to understand how the different functions interact with each other. In **propagate** we can pass in any parameters we want. For example, we pass in $x$ as an parameter:\n",
    "\n",
    "... = propagate(..., $x$=($x_{central}$, $x_{neighbor}$), ...)\n",
    "\n",
    "Here $x_{central}$ and $x_{neighbor}$ represent the features from **central** nodes and from **neighbor** nodes. If we're using the same representations from central and neighbor, then $x_{central}$ and $x_{neighbor}$ could be identical.\n",
    "\n",
    "Suppose $x_{central}$ and $x_{neighbor}$ are both of shape N * d, where N is number of nodes, and d is dimension of features.\n",
    "\n",
    "Then in message function, we can take parameters called $x\\_i$ and $x\\_j$. Usually $x\\_i$ represents \"central nodes\", and $x\\_j$ represents \"neighbor nodes\". Pay attention to the shape here: $x\\_i$ and $x\\_j$ are both of shape E * d (**not N!**). $x\\_i$ is obtained by concatenating the embeddings of central nodes of all edges through lookups from $x_{central}$ we passed in propagate. Similarly, $x\\_j$ is obtained by concatenating the embeddings of neighbor nodes of all edges through lookups from $x_{neighbor}$ we passed in propagate.\n",
    "\n",
    "Let's look at an example. Suppose we have 4 nodes, so $x_{central}$ and $x_{neighbor}$ are of shape 4 * d. We have two edges (1, 2) and (3, 0). Thus, $x\\_i$ is obtained by $[x_{central}[1]^T; x_{central}[3]^T]^T$, and $x\\_j$ is obtained by $[x_{neighbor}[2]^T; x_{neighbor}[0]^T]^T$\n",
    "\n",
    "<font color='red'>For the following questions, DON'T refer to any existing implementations online.</font>"
   ]
  },
  {
   "cell_type": "markdown",
   "metadata": {},
   "source": [
    "  \n",
    "PRW对上面这一坨内容中除GraphSAGE外内容的笔记（从有道云笔记上截图的我自己的笔记）\n",
    "![p1](cs224w-colab3-1.png)"
   ]
  },
  {
   "cell_type": "markdown",
   "metadata": {},
   "source": [
    "上面提及的PyG文档是指在下面写GraphSAGE层时用到的create_gnn的网址：[https://pytorch-geometric.readthedocs.io/en/latest/notes/create_gnn.html](https://pytorch-geometric.readthedocs.io/en/latest/notes/create_gnn.html)"
   ]
  },
  {
   "cell_type": "markdown",
   "metadata": {},
   "source": [
    "GraphSAGE的message就是原信号；aggregate作两步，先聚合邻居信息（𝐴𝐺𝐺({ℎ(𝑙−1)𝑢,∀𝑢∈𝑁(𝑣)})）（在aggregate实现）；再将邻居总信息和上一层本节点信息聚合起来（𝑊𝑙⋅ℎ(𝑙−1)𝑣+𝑊𝑟⋅𝐴𝐺𝐺({ℎ(𝑙−1)𝑢,∀𝑢∈𝑁(𝑣)})）（在forward实现）  \n",
    "（图片截自cs224w官方slides）\n",
    "![p2](cs224w-colab3-2.png)"
   ]
  },
  {
   "cell_type": "code",
   "execution_count": 5,
   "metadata": {
    "colab": {
     "background_save": true
    },
    "id": "RwG4HqCFCaOD"
   },
   "outputs": [],
   "source": [
    "class GraphSage(MessagePassing):\n",
    "    \n",
    "    def __init__(self, in_channels, out_channels, normalize = True,\n",
    "                 bias = False, **kwargs):  \n",
    "        super(GraphSage, self).__init__(**kwargs)\n",
    "\n",
    "        self.in_channels = in_channels\n",
    "        self.out_channels = out_channels\n",
    "        self.normalize = normalize\n",
    "\n",
    "        self.lin_l = None\n",
    "        self.lin_r = None\n",
    "\n",
    "        ############################################################################\n",
    "        # TODO: Your code here! \n",
    "        # Define the layers needed for the message and update functions below.\n",
    "        # self.lin_l is the linear transformation that you apply to embedding \n",
    "        #            for central node.\n",
    "        # self.lin_r is the linear transformation that you apply to aggregated \n",
    "        #            message from neighbors.\n",
    "        # Our implementation is ~2 lines, but don't worry if you deviate from this.\n",
    "        self.lin_l=Linear(in_channels,out_channels)  #Wl\n",
    "        self.lin_r=Linear(in_channels,out_channels)  #Wr\n",
    "\n",
    "        ############################################################################\n",
    "\n",
    "        self.reset_parameters()\n",
    "\n",
    "    def reset_parameters(self):\n",
    "        self.lin_l.reset_parameters()\n",
    "        self.lin_r.reset_parameters()\n",
    "\n",
    "    def forward(self, x, edge_index, size = None):\n",
    "        \"\"\"\"\"\"\n",
    "\n",
    "        out = None\n",
    "\n",
    "        ############################################################################\n",
    "        # TODO: Your code here! \n",
    "        # Implement message passing, as well as any post-processing (our update rule).\n",
    "        # 1. First call propagate function to conduct the message passing.\n",
    "        #    1.1 See there for more information: \n",
    "        #        https://pytorch-geometric.readthedocs.io/en/latest/notes/create_gnn.html\n",
    "        #    1.2 We use the same representations for central (x_central) and \n",
    "        #        neighbor (x_neighbor) nodes, which means you'll pass x=(x, x) \n",
    "        #        to propagate.\n",
    "        # 2. Update our node embedding with skip connection.\n",
    "        # 3. If normalize is set, do L-2 normalization (defined in \n",
    "        #    torch.nn.functional)\n",
    "        # Our implementation is ~5 lines, but don't worry if you deviate from this.\n",
    "        out=self.propagate(edge_index,x=(x,x),size=size)\n",
    "        x=self.lin_l(x)\n",
    "        out=self.lin_r(out)\n",
    "        out=out+x\n",
    "        if self.normalize:\n",
    "            out=F.normalize(out)\n",
    "\n",
    "        ############################################################################\n",
    "\n",
    "        return out\n",
    "\n",
    "    def message(self, x_j):\n",
    "\n",
    "        out = None\n",
    "\n",
    "        ############################################################################\n",
    "        # TODO: Your code here! \n",
    "        # Implement your message function here.\n",
    "        # Our implementation is ~1 lines, but don't worry if you deviate from this.\n",
    "        out=x_j\n",
    "\n",
    "        ############################################################################\n",
    "\n",
    "        return out\n",
    "\n",
    "    def aggregate(self, inputs, index, dim_size = None):\n",
    "\n",
    "        out = None\n",
    "\n",
    "        # The axis along which to index number of nodes.\n",
    "        node_dim = self.node_dim  #node_dim的情况可以看PyG那个文档，是MessagePassing的参数：indicates along which axis to propagate.\n",
    "\n",
    "        ############################################################################\n",
    "        # TODO: Your code here! \n",
    "        # Implement your aggregate function here.\n",
    "        # See here as how to use torch_scatter.scatter: \n",
    "        # https://pytorch-scatter.readthedocs.io/en/latest/functions/scatter.html#torch_scatter.scatter\n",
    "        # Our implementation is ~1 lines, but don't worry if you deviate from this.\n",
    "        out=torch_scatter.scatter(inputs,index,node_dim,dim_size=dim_size,reduce='mean')\n",
    "\n",
    "        ############################################################################\n",
    "\n",
    "        return out\n"
   ]
  },
  {
   "cell_type": "markdown",
   "metadata": {
    "id": "qjcfF3RACdLD"
   },
   "source": [
    "## GAT Implementation\n",
    "\n",
    "Attention mechanisms have become the state-of-the-art in many sequence-based tasks such as machine translation and learning sentence representations. One of the major benefits of attention-based mechanisms is their ability to focus on the most relevant parts of the input to make decisions. In this problem, we will see how attention mechanisms can be used to perform node classification of graph-structured data through the usage of Graph Attention Networks (GATs).\n",
    "\n",
    "The building block of the Graph Attention Network is the graph attention layer, which is a variant of the aggregation function . Let $N$ be the number of nodes and $F$ be the dimension of the feature vector for each node. The input to each graph attentional layer is a set of node features: $\\mathbf{h} = \\{\\overrightarrow{h_1}, \\overrightarrow{h_2}, \\dots, \\overrightarrow{h_N}$\\}, $\\overrightarrow{h_i} \\in R^F$. The output of each graph attentional layer is a new set of node features, which may have a new dimension $F'$: $\\mathbf{h'} = \\{\\overrightarrow{h_1'}, \\overrightarrow{h_2'}, \\dots, \\overrightarrow{h_N'}\\}$, with $\\overrightarrow{h_i'} \\in \\mathbb{R}^{F'}$.\n",
    "\n",
    "We will now describe this transformation of the input features into higher-level features performed by each graph attention layer. First, a shared linear transformation parametrized by the weight matrix $\\mathbf{W} \\in \\mathbb{R}^{F' \\times F}$ is applied to every node. Next, we perform self-attention on the nodes. We use a shared attentional mechanism:\n",
    "\\begin{equation} \n",
    "a : \\mathbb{R}^{F'} \\times \\mathbb{R}^{F'} \\rightarrow \\mathbb{R}.\n",
    "\\end{equation}\n",
    "\n",
    "This mechanism computes the attention coefficients that capture the importance of node $j$'s features to node $i$:\n",
    "\\begin{equation}\n",
    "e_{ij} = a(\\mathbf{W_l}\\overrightarrow{h_i}, \\mathbf{W_r} \\overrightarrow{h_j})\n",
    "\\end{equation}\n",
    "The most general formulation of self-attention allows every node to attend to all other nodes which drops all structural information. To utilize graph structure in the attention mechanisms, we can use masked attention. In masked attention, we only compute $e_{ij}$ for nodes $j \\in \\mathcal{N}_i$ where $\\mathcal{N}_i$ is some neighborhood of node $i$ in the graph.\n",
    "\n",
    "To easily compare coefficients across different nodes, we normalize the coefficients across $j$ using a softmax function:\n",
    "\\begin{equation}\n",
    "\\alpha_{ij} = \\text{softmax}_j(e_{ij}) = \\frac{\\exp(e_{ij})}{\\sum_{k \\in \\mathcal{N}_i} \\exp(e_{ik})}\n",
    "\\end{equation}\n",
    "\n",
    "For this problem, our attention mechanism $a$ will be a single-layer feedforward neural network parametrized by a weight vector $\\overrightarrow{a} \\in \\mathbb{R}^{F'}$, followed by a LeakyReLU nonlinearity (with negative input slope 0.2). Let $\\cdot^T$ represent transposition and $||$ represent concatenation. The coefficients computed by our attention mechanism may be expressed as:\n",
    "\n",
    "\\begin{equation}\n",
    "\\alpha_{ij} = \\frac{\\exp\\Big(\\text{LeakyReLU}\\Big(\\overrightarrow{a_l}^T \\mathbf{W_l} \\overrightarrow{h_i} + \\overrightarrow{a_r}^T\\mathbf{W_r}\\overrightarrow{h_j}\\Big)\\Big)}{\\sum_{k\\in \\mathcal{N}_i} \\exp\\Big(\\text{LeakyReLU}\\Big(\\overrightarrow{a_l}^T \\mathbf{W_l} \\overrightarrow{h_i} + \\overrightarrow{a_r}^T\\mathbf{W_r}\\overrightarrow{h_k}\\Big)\\Big)}\n",
    "\\end{equation}\n",
    "\n",
    "For the following questions, we denote $\\alpha_l = [...,\\overrightarrow{a_l}^T \\mathbf{W_l} \\overrightarrow{h_i},...]$ and $\\alpha_r = [..., \\overrightarrow{a_r}^T \\mathbf{W_r} \\overrightarrow{h_j}, ...]$.\n",
    "\n",
    "\n",
    "At every layer of GAT, after the attention coefficients are computed for that layer, the aggregation function can be computed by a weighted sum of neighborhood messages, where weights are specified by $\\alpha_{ij}$.\n",
    "\n",
    "Now, we use the normalized attention coefficients to compute a linear combination of the features corresponding to them. These aggregated features will serve as the final output features for every node.\n",
    "\n",
    "\\begin{equation}\n",
    "h_i' = \\sum_{j \\in \\mathcal{N}_i} \\alpha_{ij} \\mathbf{W_r} \\overrightarrow{h_j}.\n",
    "\\end{equation}\n",
    "\n",
    "To stabilize the learning process of self-attention, we use multi-head attention. To do this we use $K$ independent attention mechanisms, or ``heads'' compute output features as in the above equations. Then, we concatenate these output feature representations:\n",
    "\n",
    "\\begin{equation}\n",
    "    \\overrightarrow{h_i}' = ||_{k=1}^K \\Big(\\sum_{j \\in \\mathcal{N}_i} \\alpha_{ij}^{(k)} \\mathbf{W_r}^{(k)} \\overrightarrow{h_j}\\Big)\n",
    "\\end{equation}\n",
    "\n",
    "where $||$ is concentation, $\\alpha_{ij}^{(k)}$ are the normalized attention coefficients computed by the $k$-th attention mechanism $(a^k)$, and $\\mathbf{W}^{(k)}$ is the corresponding input linear transformation's weight matrix. Note that for this setting, $\\mathbf{h'} \\in \\mathbb{R}^{KF'}$."
   ]
  },
  {
   "cell_type": "markdown",
   "metadata": {},
   "source": [
    "PRW的GAT笔记：  \n",
    "GAT的graph attention layer是aggregation function的一种变体  \n",
    "W是graph attention layer的weight marix  \n",
    "a是共享的注意力机制、将两两节点对应特征进行操作后映射到标量上  \n",
    "$e_{ij}$是attention coefficient，是对i（中心）和j（邻居）节点信息经过W后进行a操作的结果，衡量j的特征对i的重要性  \n",
    "为了在注意力机制中应用图结构，使用masked attention让$e_{ij}$只能获取邻居之间的信息。  \n",
    "为了比较不同节点上的coefficient，对$e_{ij}$作softmax  \n",
    "在本代码中，a是一个以LeakyReLU作非线性化，以$\\overrightarrow{a} \\in \\mathbb{R}^{F'}$为weight matrix的单层前馈神经网络。最终的计算机制就是如最长那个公式所示  \n",
    "特征通过α和W聚合  \n",
    "多头注意力：多做几个attention机制然后聚合起来"
   ]
  },
  {
   "cell_type": "code",
   "execution_count": 6,
   "metadata": {
    "colab": {
     "background_save": true
    },
    "id": "w4j45gTpCeXO"
   },
   "outputs": [],
   "source": [
    "class GAT(MessagePassing):\n",
    "\n",
    "    def __init__(self, in_channels, out_channels, heads = 2,\n",
    "                 negative_slope = 0.2, dropout = 0., **kwargs):\n",
    "        super(GAT, self).__init__(node_dim=0, **kwargs)\n",
    "\n",
    "        self.in_channels = in_channels\n",
    "        self.out_channels = out_channels\n",
    "        self.heads = heads\n",
    "        self.negative_slope = negative_slope\n",
    "        self.dropout = dropout\n",
    "\n",
    "        self.lin_l = None\n",
    "        self.lin_r = None\n",
    "        self.att_l = None\n",
    "        self.att_r = None\n",
    "\n",
    "        ############################################################################\n",
    "        # TODO: Your code here! \n",
    "        # Define the layers needed for the message functions below.\n",
    "        # self.lin_l is the linear transformation that you apply to embeddings \n",
    "        # BEFORE message passing.\n",
    "        # Pay attention to dimensions of the linear layers, since we're using \n",
    "        # multi-head attention.\n",
    "        # Our implementation is ~1 lines, but don't worry if you deviate from this.\n",
    "        self.lin_l=Linear(in_channels,heads*out_channels)  #W_l  这里的in_channels就是已经乘过heads的数字\n",
    "        #print(self.lin_l)\n",
    "\n",
    "        ############################################################################\n",
    "\n",
    "        self.lin_r = self.lin_l  #W_r\n",
    "        #print(self.lin_r)\n",
    "\n",
    "        ############################################################################\n",
    "        # TODO: Your code here! \n",
    "        # Define the attention parameters \\overrightarrow{a_l/r}^T in the above intro.\n",
    "        # You have to deal with multi-head scenarios.\n",
    "        # Use nn.Parameter instead of nn.Linear\n",
    "        # Our implementation is ~2 lines, but don't worry if you deviate from this.\n",
    "        self.att_l = Parameter(torch.Tensor(1, heads, out_channels))  #a_l\n",
    "        self.att_r = Parameter(torch.Tensor(1, heads, out_channels))  #a_r\n",
    "        #Tensor(*sizes)\n",
    "\n",
    "        ############################################################################\n",
    "\n",
    "        self.reset_parameters()\n",
    "\n",
    "    def reset_parameters(self):\n",
    "        nn.init.xavier_uniform_(self.lin_l.weight)\n",
    "        nn.init.xavier_uniform_(self.lin_r.weight)\n",
    "        nn.init.xavier_uniform_(self.att_l)\n",
    "        nn.init.xavier_uniform_(self.att_r)\n",
    "        #https://pytorch.org/docs/stable/_modules/torch/nn/init.html#xavier_uniform_\n",
    "\n",
    "    def forward(self, x, edge_index, size = None):\n",
    "        \n",
    "        H, C = self.heads, self.out_channels\n",
    "\n",
    "        ############################################################################\n",
    "        # TODO: Your code here! \n",
    "        # Implement message passing, as well as any pre- and post-processing (our update rule).\n",
    "        # 1. First apply linear transformation to node embeddings, and split that \n",
    "        #    into multiple heads. We use the same representations for source and\n",
    "        #    target nodes, but apply different linear weights (W_l and W_r)\n",
    "        # 2. Calculate alpha vectors for central nodes (alpha_l) and neighbor nodes (alpha_r).\n",
    "        # 3. Call propagate function to conduct the message passing. \n",
    "        #    3.1 Remember to pass alpha = (alpha_l, alpha_r) as a parameter.\n",
    "        #    3.2 See there for more information: https://pytorch-geometric.readthedocs.io/en/latest/notes/create_gnn.html\n",
    "        # 4. Transform the output back to the shape of N * d.  #PRW：这个d又是啥……\n",
    "        # Our implementation is ~5 lines, but don't worry if you deviate from this.\n",
    "        x_l=self.lin_l(x)  #𝐖𝐥ℎ𝑖\n",
    "        x_r=self.lin_r(x)  #𝐖rℎj\n",
    "        x_l=x_l.view(-1,H,C)  #N x H x C\n",
    "        x_r=x_r.view(-1,H,C)\n",
    "        alpha_l = (x_l * self.att_l).sum(axis=1)  #*是逐元素相乘（每个特征对应的所有节点一样处理？）。sum的维度是H（聚合）。\n",
    "        #最终维度是N*C？\n",
    "        #alpha_l就是a^T * Wl * hi\n",
    "        alpha_r = (x_r * self.att_r).sum(axis=1)\n",
    "        out = self.propagate(edge_index, x=(x_l, x_r), alpha=(alpha_l, alpha_r),size=size)\n",
    "        out = out.view(-1, H * C)  #N*D(D=H*C)\n",
    "        #print(list(self.lin_l.parameters()))\n",
    "        #print(list(self.lin_r.parameters()))\n",
    "        #print(list(self.lin_l.parameters())==list(self.lin_r.parameters()))\n",
    "        \n",
    "        #print(hash(self.lin_l))\n",
    "        #print(hash(self.lin_r))\n",
    "        #这几行注释是给下一个cell用的，目的是看一下lin_l和lin_r这两层是不是真的一样（按照浅拷贝的定义来讲就应该一样）\n",
    "        #用id也行……哎这个辨别的方式倒是很多啦无所谓\n",
    "        \n",
    "        #然后我发现真的一样……但是似乎本意又应该是不一样？\n",
    "        #但是torch_geometric的GAT实现又确实也是这么写的：https://pytorch-geometric.readthedocs.io/en/latest/_modules/torch_geometric/nn/conv/gat_conv.html\n",
    "        #如果in_channels是一个数就一样，如果是一堆数就不一样？震惊，这是为什么呢？\n",
    "        #以后再回来研究\n",
    "\n",
    "        ############################################################################\n",
    "\n",
    "        return out\n",
    "\n",
    "\n",
    "    def message(self, x_j, alpha_j, alpha_i, index, ptr, size_i):\n",
    "\n",
    "        ############################################################################\n",
    "        # TODO: Your code here! \n",
    "        # Implement your message function. Putting the attention in message \n",
    "        # instead of in update is a little tricky.\n",
    "        # 1. Calculate the final attention weights using alpha_i and alpha_j,\n",
    "        #    and apply leaky Relu.\n",
    "        # 2. Calculate softmax over the neighbor nodes for all the nodes. Use \n",
    "        #    torch_geometric.utils.softmax instead of the one in Pytorch.\n",
    "        # 3. Apply dropout to attention weights (alpha).\n",
    "        # 4. Multiply embeddings and attention weights. As a sanity check, the output\n",
    "        #    should be of shape E * H * d.  #PRW：E是什么？N吗？\n",
    "        # 5. ptr (LongTensor, optional): If given, computes the softmax based on\n",
    "        #    sorted inputs in CSR representation. You can simply pass it to softmax.  #PRW：这个代码里就没给ptr留位置啊\n",
    "        # Our implementation is ~5 lines, but don't worry if you deviate from this.\n",
    "        \n",
    "        #alpha：[E, C]\n",
    "        alpha = alpha_i + alpha_j  #leakyrelu的对象\n",
    "        alpha = F.leaky_relu(alpha,self.negative_slope)\n",
    "        alpha = softmax(alpha, index, ptr, size_i)\n",
    "        #https://pytorch-geometric.readthedocs.io/en/latest/modules/utils.html#torch-geometric-utils\n",
    "        #https://github.com/rusty1s/pytorch_geometric/blob/master/torch_geometric/utils/softmax.py\n",
    "        #没仔细看，反正参数是这些参数\n",
    "        \n",
    "        alpha = F.dropout(alpha, p=self.dropout, training=self.training).unsqueeze(1)  #[E,1,C]\n",
    "        out = x_j * alpha  #通过计算得到的alpha来计算节点信息聚合值（我大概理解就是得到h_i^'）  #[E,H,C]\n",
    "\n",
    "        ############################################################################\n",
    "\n",
    "        return out\n",
    "\n",
    "\n",
    "    def aggregate(self, inputs, index, dim_size = None):\n",
    "\n",
    "        ############################################################################\n",
    "        # TODO: Your code here! \n",
    "        # Implement your aggregate function here.\n",
    "        # See here as how to use torch_scatter.scatter: https://pytorch-scatter.readthedocs.io/en/latest/_modules/torch_scatter/scatter.html\n",
    "        # Pay attention to \"reduce\" parameter is different from that in GraphSage.\n",
    "        # Our implementation is ~1 lines, but don't worry if you deviate from this.\n",
    "        out = torch_scatter.scatter(inputs, index, dim=self.node_dim, dim_size=dim_size, reduce='sum')\n",
    "\n",
    "        ############################################################################\n",
    "    \n",
    "        return out"
   ]
  },
  {
   "cell_type": "code",
   "execution_count": 7,
   "metadata": {},
   "outputs": [
    {
     "name": "stdout",
     "output_type": "stream",
     "text": [
      "Batch(batch=[2708], edge_index=[2, 10556], test_mask=[2708], train_mask=[2708], val_mask=[2708], x=[2708, 1433], y=[2708])\n"
     ]
    }
   ],
   "source": [
    "#PRW\n",
    "#lin_l和lin_r是同一个吗？\n",
    "from torch_geometric.datasets import Planetoid\n",
    "from torch_geometric.data import DataLoader\n",
    "dataset = Planetoid(root='/tmp/cora', name='Cora')\n",
    "eg_model=GAT(dataset.num_node_features,2)\n",
    "loader = DataLoader(dataset, batch_size=32, shuffle=True)\n",
    "for batch in loader:\n",
    "    print(batch)\n",
    "    op=eg_model(batch.x,batch.edge_index)\n",
    "    break"
   ]
  },
  {
   "cell_type": "code",
   "execution_count": 8,
   "metadata": {},
   "outputs": [
    {
     "name": "stdout",
     "output_type": "stream",
     "text": [
      "tensor([[[-0.0865,  0.1741, -0.0227],\n",
      "         [ 1.2644, -1.2028,  0.1233]]])\n",
      "tensor([[0.0648, 0.1849]])\n",
      "torch.Size([1, 2])\n"
     ]
    }
   ],
   "source": [
    "#PRW\n",
    "print(eg_tensor)\n",
    "eg_result2=eg_tensor.sum(dim=-1)\n",
    "print(eg_result2)\n",
    "print(eg_result2.size())"
   ]
  },
  {
   "cell_type": "code",
   "execution_count": 9,
   "metadata": {},
   "outputs": [
    {
     "data": {
      "text/plain": [
       "torch.Size([2, 1, 1])"
      ]
     },
     "execution_count": 9,
     "metadata": {},
     "output_type": "execute_result"
    }
   ],
   "source": [
    "#PRW\n",
    "eg_result2.view(-1,1,1).size()"
   ]
  },
  {
   "cell_type": "code",
   "execution_count": 10,
   "metadata": {},
   "outputs": [
    {
     "data": {
      "text/plain": [
       "torch.Size([1, 1, 2])"
      ]
     },
     "execution_count": 10,
     "metadata": {},
     "output_type": "execute_result"
    }
   ],
   "source": [
    "#PRW\n",
    "eg_result2.unsqueeze(1).size()"
   ]
  },
  {
   "cell_type": "markdown",
   "metadata": {
    "id": "V2dkgSuWCheU"
   },
   "source": [
    "## Building Optimizers\n",
    "\n",
    "This function has been implemented for you. **For grading purposes please use the default Adam optimizer**, but feel free to play with other types of optimizers on your own."
   ]
  },
  {
   "cell_type": "code",
   "execution_count": 11,
   "metadata": {
    "id": "f_TIQ8NPCjBP"
   },
   "outputs": [],
   "source": [
    "import torch.optim as optim\n",
    "\n",
    "def build_optimizer(args, params):\n",
    "    weight_decay = args.weight_decay\n",
    "    filter_fn = filter(lambda p : p.requires_grad, params)\n",
    "    if args.opt == 'adam':\n",
    "        optimizer = optim.Adam(filter_fn, lr=args.lr, weight_decay=weight_decay)\n",
    "    elif args.opt == 'sgd':\n",
    "        optimizer = optim.SGD(filter_fn, lr=args.lr, momentum=0.95, weight_decay=weight_decay)\n",
    "    elif args.opt == 'rmsprop':\n",
    "        optimizer = optim.RMSprop(filter_fn, lr=args.lr, weight_decay=weight_decay)\n",
    "    elif args.opt == 'adagrad':\n",
    "        optimizer = optim.Adagrad(filter_fn, lr=args.lr, weight_decay=weight_decay)\n",
    "    if args.opt_scheduler == 'none':\n",
    "        return None, optimizer\n",
    "    elif args.opt_scheduler == 'step':\n",
    "        scheduler = optim.lr_scheduler.StepLR(optimizer, step_size=args.opt_decay_step, gamma=args.opt_decay_rate)\n",
    "    elif args.opt_scheduler == 'cos':\n",
    "        scheduler = optim.lr_scheduler.CosineAnnealingLR(optimizer, T_max=args.opt_restart)\n",
    "    return scheduler, optimizer"
   ]
  },
  {
   "cell_type": "markdown",
   "metadata": {
    "id": "hBYdWFwYCkwY"
   },
   "source": [
    "## Training and Testing\n",
    "\n",
    "Here we provide you with the functions to train and test. **Please do not modify this part for grading purposes.**"
   ]
  },
  {
   "cell_type": "code",
   "execution_count": 12,
   "metadata": {
    "id": "_tZMWRc8CmGg"
   },
   "outputs": [],
   "source": [
    "import time\n",
    "\n",
    "import networkx as nx\n",
    "import numpy as np\n",
    "import torch\n",
    "import torch.optim as optim\n",
    "\n",
    "from torch_geometric.datasets import TUDataset\n",
    "from torch_geometric.datasets import Planetoid\n",
    "from torch_geometric.data import DataLoader\n",
    "\n",
    "import torch_geometric.nn as pyg_nn\n",
    "\n",
    "import matplotlib.pyplot as plt\n",
    "\n",
    "\n",
    "def train(dataset, args):\n",
    "    \n",
    "    print(\"Node task. test set size:\", np.sum(dataset[0]['train_mask'].numpy()))\n",
    "    test_loader = loader = DataLoader(dataset, batch_size=args.batch_size, shuffle=True)\n",
    "\n",
    "    # build model\n",
    "    model = GNNStack(dataset.num_node_features, args.hidden_dim, dataset.num_classes, \n",
    "                            args)\n",
    "    scheduler, opt = build_optimizer(args, model.parameters())\n",
    "\n",
    "    # train\n",
    "    losses = []\n",
    "    test_accs = []\n",
    "    for epoch in range(args.epochs):\n",
    "        total_loss = 0\n",
    "        model.train()\n",
    "        for batch in loader:\n",
    "            opt.zero_grad()\n",
    "            pred = model(batch)\n",
    "            label = batch.y\n",
    "            pred = pred[batch.train_mask]\n",
    "            label = label[batch.train_mask]\n",
    "            loss = model.loss(pred, label)\n",
    "            loss.backward()\n",
    "            opt.step()\n",
    "            total_loss += loss.item() * batch.num_graphs\n",
    "        total_loss /= len(loader.dataset)\n",
    "        losses.append(total_loss)\n",
    "\n",
    "        if epoch % 10 == 0:\n",
    "          test_acc = test(test_loader, model)\n",
    "          test_accs.append(test_acc)\n",
    "        else:\n",
    "          test_accs.append(test_accs[-1])\n",
    "    return test_accs, losses\n",
    "\n",
    "def test(loader, model, is_validation=True):\n",
    "    model.eval()\n",
    "\n",
    "    correct = 0\n",
    "    for data in loader:\n",
    "        with torch.no_grad():\n",
    "            # max(dim=1) returns values, indices tuple; only need indices\n",
    "            pred = model(data).max(dim=1)[1]\n",
    "            label = data.y\n",
    "\n",
    "        mask = data.val_mask if is_validation else data.test_mask\n",
    "        # node classification: only evaluate on nodes in test set\n",
    "        pred = pred[mask]\n",
    "        label = data.y[mask]\n",
    "            \n",
    "        correct += pred.eq(label).sum().item()\n",
    "\n",
    "    total = 0\n",
    "    for data in loader.dataset:\n",
    "        total += torch.sum(data.val_mask if is_validation else data.test_mask).item()\n",
    "    return correct / total\n",
    "  \n",
    "class objectview(object):\n",
    "    def __init__(self, d):\n",
    "        self.__dict__ = d\n"
   ]
  },
  {
   "cell_type": "markdown",
   "metadata": {
    "id": "L7-h7jIsCns4"
   },
   "source": [
    "## Let's Start the Training!\n",
    "\n",
    "We will be working on the CORA dataset on node-level classification.\n",
    "\n",
    "This part is implemented for you. **For grading purposes, please do not modify the default parameters.** However, feel free to play with different configurations just for fun!\n",
    "\n",
    "**Submit your best accuracy and loss on Gradescope.**"
   ]
  },
  {
   "cell_type": "code",
   "execution_count": 13,
   "metadata": {
    "id": "qe9B45l9Cpz2"
   },
   "outputs": [
    {
     "name": "stdout",
     "output_type": "stream",
     "text": [
      "Node task. test set size: 140\n",
      "Maximum accuracy: 0.756\n",
      "Minimum loss: 0.10536009818315506\n",
      "Node task. test set size: 140\n",
      "Maximum accuracy: 0.754\n",
      "Minimum loss: 0.031098222360014915\n"
     ]
    },
    {
     "data": {
      "image/png": "[encoded data removed]",
      "text/plain": [
       "<Figure size 432x288 with 1 Axes>"
      ]
     },
     "metadata": {
      "needs_background": "light"
     },
     "output_type": "display_data"
    }
   ],
   "source": [
    "def main():\n",
    "    for args in [\n",
    "        {'model_type': 'GraphSage', 'dataset': 'cora', 'num_layers': 2, 'heads': 1, 'batch_size': 32, 'hidden_dim': 32, 'dropout': 0.5, 'epochs': 500, 'opt': 'adam', 'opt_scheduler': 'none', 'opt_restart': 0, 'weight_decay': 5e-3, 'lr': 0.01},\n",
    "    ]:\n",
    "        args = objectview(args)\n",
    "        for model in ['GraphSage', 'GAT']:\n",
    "            args.model_type = model\n",
    "\n",
    "            # Match the dimension.\n",
    "            if model == 'GAT':\n",
    "              args.heads = 2\n",
    "            else:\n",
    "              args.heads = 1\n",
    "\n",
    "            if args.dataset == 'cora':\n",
    "                dataset = Planetoid(root='/tmp/cora', name='Cora')\n",
    "                #针对Planetoid无法下载数据问题，可参考我写的博文：Planetoid无法直接下载Cora等数据集的3个解决方式https://blog.csdn.net/PolarisRisingWar/article/details/116399648\n",
    "            else:\n",
    "                raise NotImplementedError(\"Unknown dataset\") \n",
    "            test_accs, losses = train(dataset, args) \n",
    "\n",
    "            print(\"Maximum accuracy: {0}\".format(max(test_accs)))\n",
    "            print(\"Minimum loss: {0}\".format(min(losses)))\n",
    "\n",
    "            plt.title(dataset.name)\n",
    "            plt.plot(losses, label=\"training loss\" + \" - \" + args.model_type)\n",
    "            plt.plot(test_accs, label=\"test accuracy\" + \" - \" + args.model_type)\n",
    "        plt.legend()\n",
    "        plt.show()\n",
    "\n",
    "if __name__ == '__main__':\n",
    "    main()"
   ]
  },
  {
   "cell_type": "markdown",
   "metadata": {
    "id": "gHELqjARZ1W5"
   },
   "source": [
    "## Question 1.1: What is the maximum accuracy you could get on test set for GraphSage? (10 points)\n",
    "\n",
    "Submit your answers on Gradescope."
   ]
  },
  {
   "cell_type": "markdown",
   "metadata": {
    "id": "PlCtBEBLMBkR"
   },
   "source": [
    "## Question 1.2: What is the maximum accuracy you could get on test set for GAT? (10 points)\n",
    "\n",
    "Submit your answers on Gradescope."
   ]
  },
  {
   "cell_type": "markdown",
   "metadata": {
    "id": "Nwwq0nSdmsOL"
   },
   "source": [
    "# 2 DeepSNAP Basics\n",
    "\n",
    "In previous Colabs we used both of graph class (NetworkX) and tensor (PyG) representations of graphs separately. The graph class `nx.Graph` provides rich analysis and manipulation functionalities, such as the clustering coefficient and PageRank. To feed the graph into the model, we need to transform the graph into tensor representations including edge tensor `edge_index` and node attributes tensors `x` and `y`. But only using tensors (as the graphs formatted in PyG `datasets` and `data`) will make many graph manipulations and analysis less efficient and harder. So, in this Colab we will use DeepSNAP which combines both representations and offers a full pipeline for GNN training / validation / testing.\n"
   ]
  },
  {
   "cell_type": "markdown",
   "metadata": {
    "id": "Sf7vUmdNKCjA"
   },
   "source": [
    "In general, [DeepSNAP](https://github.com/snap-stanford/deepsnap) is a Python library to assist efficient deep learning on graphs. DeepSNAP features in its support for flexible graph manipulation, standard pipeline, heterogeneous graphs and simple API.\n",
    "\n",
    "1. DeepSNAP is easy to be used for the sophisticated graph manipulations, such as feature computation, pretraining, subgraph extraction etc. during/before the training.\n",
    "2. In most frameworks, standard pipelines for node, edge, link, graph-level tasks under inductive or transductive settings are left to the user to code. In practice, there are additional design choices involved (such as how to split dataset for link prediction). DeepSNAP provides such a standard pipeline that greatly saves repetitive coding efforts, and enables fair comparision for models.\n",
    "3. Many real-world graphs are heterogeneous graphs. But packages support for heterogeneous graphs, including data storage and flexible message passing, is lacking. DeepSNAP provides an efficient and flexible heterogeneous graph that supports both the node and edge heterogeneity.\n",
    "\n",
    "[DeepSNAP](https://github.com/snap-stanford/deepsnap) is a newly released project and it is still under development. If you find any bugs or have any improvement ideas, feel free to raise issues or create pull requests on the GitHub directly :)\n",
    "\n",
    "In this Colab, we will focus on DeepSNAP graph manipulations and splitting settings."
   ]
  },
  {
   "cell_type": "markdown",
   "metadata": {
    "id": "20SvvngpQmmQ"
   },
   "source": [
    "## Setup"
   ]
  },
  {
   "cell_type": "code",
   "execution_count": 14,
   "metadata": {
    "id": "zfbBVFmAQlwz"
   },
   "outputs": [],
   "source": [
    "import torch\n",
    "import networkx as nx\n",
    "import matplotlib.pyplot as plt\n",
    "\n",
    "from deepsnap.graph import Graph\n",
    "from deepsnap.batch import Batch\n",
    "from deepsnap.dataset import GraphDataset\n",
    "from torch_geometric.datasets import Planetoid, TUDataset\n",
    "\n",
    "from torch.utils.data import DataLoader\n",
    "\n",
    "def visualize(G, color_map=None, seed=123):\n",
    "  if color_map is None:\n",
    "    color_map = '#c92506'\n",
    "  plt.figure(figsize=(8, 8))\n",
    "  nodes = nx.draw_networkx_nodes(G, pos=nx.spring_layout(G, seed=seed), \\\n",
    "                                 label=None, node_color=color_map, node_shape='o', node_size=150)\n",
    "  edges = nx.draw_networkx_edges(G, pos=nx.spring_layout(G, seed=seed), alpha=0.5)\n",
    "  if color_map is not None:\n",
    "    plt.scatter([],[], c='#c92506', label='Nodes with label 0', edgecolors=\"black\", s=140)\n",
    "    plt.scatter([],[], c='#fcec00', label='Nodes with label 1', edgecolors=\"black\", s=140)\n",
    "    plt.legend(prop={'size': 13}, handletextpad=0)\n",
    "  nodes.set_edgecolor('black')\n",
    "  plt.show()"
   ]
  },
  {
   "cell_type": "markdown",
   "metadata": {
    "id": "ic-o1P3r6hr2"
   },
   "source": [
    "## DeepSNAP Graph\n",
    "\n",
    "The `deepsnap.graph.Graph` class is the core class of DeepSNAP. It not only represents a graph in tensor format but also references to a graph object from graph manipulation package.\n",
    "\n",
    "Currently DeepSNAP supports [NetworkX](https://networkx.org/) and [Snap.py](https://snap.stanford.edu/snappy/doc/index.html) as the back end graph manipulation package.\n",
    "\n",
    "In this Colab, we will use the NetworkX as the back end graph manipulation package."
   ]
  },
  {
   "cell_type": "markdown",
   "metadata": {
    "id": "Ispq_lIoJl_z"
   },
   "source": [
    "Lets first try to convert a simple random NetworkX graph to a DeepSNAP graph."
   ]
  },
  {
   "cell_type": "code",
   "execution_count": 15,
   "metadata": {
    "id": "zT5qca3x6XpG"
   },
   "outputs": [
    {
     "name": "stdout",
     "output_type": "stream",
     "text": [
      "(0, {'node_feature': tensor([0.9455, 0.5904, 0.9768, 0.4834, 0.3970]), 'node_label': tensor(1)})\n"
     ]
    },
    {
     "data": {
      "image/png": "[encoded data removed]",
      "text/plain": [
       "<Figure size 576x576 with 1 Axes>"
      ]
     },
     "metadata": {},
     "output_type": "display_data"
    },
    {
     "name": "stdout",
     "output_type": "stream",
     "text": [
      "Graph(G=[], edge_index=[2, 524], edge_label_index=[2, 524], node_feature=[100, 5], node_label=[100], node_label_index=[100])\n",
      "Node feature (node_feature) has shape torch.Size([100, 5]) and type torch.float32\n",
      "Node label (node_label) has shape torch.Size([100]) and type torch.int64\n",
      "Edge index (edge_index) has shape torch.Size([2, 524]) and type torch.int64\n",
      "The DeepSNAP graph has <class 'networkx.classes.graph.Graph'> as the internal manupulation graph\n"
     ]
    }
   ],
   "source": [
    "num_nodes = 100\n",
    "p = 0.05\n",
    "seed = 100\n",
    "\n",
    "# Generate a networkx random graph\n",
    "G = nx.gnp_random_graph(num_nodes, p, seed=seed)\n",
    "\n",
    "# Generate some random node features and labels\n",
    "node_feature = {node : torch.rand([5, ]) for node in G.nodes()}\n",
    "node_label = {node : torch.randint(0, 2, ()) for node in G.nodes()}\n",
    "\n",
    "# Set the random features and labels to G\n",
    "nx.set_node_attributes(G, node_feature, name='node_feature')\n",
    "nx.set_node_attributes(G, node_label, name='node_label')\n",
    "\n",
    "# Print one node example\n",
    "for node in G.nodes(data=True):\n",
    "  print(node)\n",
    "  break\n",
    "\n",
    "color_map = ['#c92506' if node[1]['node_label'].item() == 0 else '#fcec00' for node in G.nodes(data=True)]\n",
    "\n",
    "# Visualize the graph\n",
    "visualize(G, color_map=color_map)\n",
    "\n",
    "# Transform the networkx graph into the deepsnap graph\n",
    "graph = Graph(G)\n",
    "\n",
    "# Print out the general deepsnap graph information\n",
    "print(graph)\n",
    "\n",
    "# DeepSNAP will convert node attributes to tensors\n",
    "# Notice the type of tensors\n",
    "print(\"Node feature (node_feature) has shape {} and type {}\".format(graph.node_feature.shape, graph.node_feature.dtype))\n",
    "print(\"Node label (node_label) has shape {} and type {}\".format(graph.node_label.shape, graph.node_label.dtype))\n",
    "\n",
    "# DeepSNAP will also generate the edge_index tensor\n",
    "print(\"Edge index (edge_index) has shape {} and type {}\".format(graph.edge_index.shape, graph.edge_index.dtype))\n",
    "\n",
    "# Different from only storing tensors, deepsnap graph also references to the networkx graph\n",
    "# We will discuss why the reference will be helpful later\n",
    "print(\"The DeepSNAP graph has {} as the internal manupulation graph\".format(type(graph.G)))"
   ]
  },
  {
   "cell_type": "markdown",
   "metadata": {
    "id": "PNMbc307KOQD"
   },
   "source": [
    "In DeepSNAP we have three levels of attributes. In this example, we have the **node level** attributes including `node_feature` and `node_label`. The other two levels of attributes are graph and edge attributes. The usage is similar to the node level one except that the feature becomes `edge_feature` or `graph_feature` and label becomes `edge_label` or `graph_label` etc."
   ]
  },
  {
   "cell_type": "markdown",
   "metadata": {
    "id": "G8Xz58_Da0qL"
   },
   "source": [
    "Similar to the NetworkX graph, we can easily get some basic information of the graph through class properties directly."
   ]
  },
  {
   "cell_type": "code",
   "execution_count": 16,
   "metadata": {
    "id": "dLo4zWAoeg6S"
   },
   "outputs": [
    {
     "name": "stdout",
     "output_type": "stream",
     "text": [
      "The random graph has 100 nodes\n",
      "The random graph has 262 edges\n"
     ]
    }
   ],
   "source": [
    "# Number of nodes\n",
    "print(\"The random graph has {} nodes\".format(graph.num_nodes))\n",
    "\n",
    "# Number of edges\n",
    "print(\"The random graph has {} edges\".format(graph.num_edges))"
   ]
  },
  {
   "cell_type": "markdown",
   "metadata": {
    "id": "Po7IaRmwblI5"
   },
   "source": [
    "DeepSNAP also provides functions that can automatically transform the PyG datasets into a list of DeepSNAP graphs.\n",
    "\n",
    "Here we transform the CORA dataset into a list of DeepSNAP graphs."
   ]
  },
  {
   "cell_type": "code",
   "execution_count": 17,
   "metadata": {},
   "outputs": [
    {
     "name": "stdout",
     "output_type": "stream",
     "text": [
      "Graph(G=[], edge_index=[2, 10556], edge_label_index=[2, 10556], node_feature=[2708, 1433], node_label=[2708], node_label_index=[2708])\n"
     ]
    }
   ],
   "source": [
    "root = './tmp/cora'\n",
    "name = 'Cora'\n",
    "\n",
    "# The Cora dataset\n",
    "pyg_dataset= Planetoid(root, name)\n",
    "\n",
    "# PyG dataset to a list of deepsnap graphs\n",
    "graphs = GraphDataset.pyg_to_graphs(pyg_dataset)\n",
    "\n",
    "# Get the first deepsnap graph (CORA only has one graph)\n",
    "graph = graphs[0]\n",
    "print(graph)"
   ]
  },
  {
   "cell_type": "markdown",
   "metadata": {
    "id": "NLm5vVYMAP2x"
   },
   "source": [
    "## Question 2.1: What is the number of classes and number of features in the CORA graph? (5 points)\n",
    "\n",
    "Submit your answers on Gradescope."
   ]
  },
  {
   "cell_type": "code",
   "execution_count": 18,
   "metadata": {
    "id": "8iF_Kyqr_JbY"
   },
   "outputs": [
    {
     "name": "stdout",
     "output_type": "stream",
     "text": [
      "Cora has 7 classes\n",
      "Cora has 1433 features\n"
     ]
    }
   ],
   "source": [
    "def get_num_node_classes(graph):\n",
    "  # TODO: Implement this function that takes a deepsnap graph object\n",
    "  # and return the number of node classes of that graph.\n",
    "\n",
    "  num_node_classes = 0\n",
    "\n",
    "  ############# Your code here #############\n",
    "  ## (~1 line of code)\n",
    "  ## Note\n",
    "  ## 1. Colab autocomplete functionality might be useful\n",
    "  ## 2. DeepSNAP documentation might be useful https://snap.stanford.edu/deepsnap/modules/graph.html\n",
    "  num_node_classes=graph.num_node_labels  #https://snap.stanford.edu/deepsnap/modules/graph.html#deepsnap.graph.Graph.num_node_labels\n",
    "\n",
    "  ##########################################\n",
    "\n",
    "  return num_node_classes\n",
    "\n",
    "def get_num_node_features(graph):\n",
    "  # TODO: Implement this function that takes a deepsnap graph object\n",
    "  # and return the number of node features of that graph.\n",
    "\n",
    "  num_node_features = 0\n",
    "\n",
    "  ############# Your code here #############\n",
    "  ## (~1 line of code)\n",
    "  ## Note\n",
    "  ## 1. Colab autocomplete functionality might be useful\n",
    "  ## 2. DeepSNAP documentation might be useful https://snap.stanford.edu/deepsnap/modules/graph.html\n",
    "  num_node_features=graph.num_node_features  #https://snap.stanford.edu/deepsnap/modules/graph.html#deepsnap.graph.Graph.num_node_features\n",
    "\n",
    "  ##########################################\n",
    "\n",
    "  return num_node_features\n",
    "\n",
    "num_node_classes = get_num_node_classes(graph)\n",
    "num_node_features = get_num_node_features(graph)\n",
    "print(\"{} has {} classes\".format(name, num_node_classes))\n",
    "print(\"{} has {} features\".format(name, num_node_features))"
   ]
  },
  {
   "cell_type": "markdown",
   "metadata": {
    "id": "rwKbzhHUAckZ"
   },
   "source": [
    "## DeepSNAP Dataset\n",
    "\n",
    "Now, lets talk about DeepSNAP dataset. A `deepsnap.dataset.GraphDataset` contains a list of `deepsnap.graph.Graph` objects. In addition to list of graphs, you can also specify what task the dataset will be used on, such as node level task (`task=node`), edge level task (`task=link_pred`) and graph level task (`task=graph`).\n",
    "\n",
    "It also contains many other useful parameters during initialization and other functinoalities. If you are interested, you can take a look at the [documentation](https://snap.stanford.edu/deepsnap/modules/dataset.html#deepsnap-graphdataset)."
   ]
  },
  {
   "cell_type": "markdown",
   "metadata": {
    "id": "HSidf9E0hn2s"
   },
   "source": [
    "Lets now use COX2 dataset which contains a list of graphs and specify the task to `graph` when we initialize the DeepSNAP dataset."
   ]
  },
  {
   "cell_type": "code",
   "execution_count": 19,
   "metadata": {
    "id": "l4kqUldyoaS_"
   },
   "outputs": [
    {
     "name": "stdout",
     "output_type": "stream",
     "text": [
      "GraphDataset(467)\n"
     ]
    }
   ],
   "source": [
    "root = './tmp/cox2'\n",
    "name = 'COX2'\n",
    "\n",
    "# Load the dataset through PyG\n",
    "pyg_dataset = TUDataset(root, name)\n",
    "\n",
    "# Convert to a list of deepsnap graphs\n",
    "graphs = GraphDataset.pyg_to_graphs(pyg_dataset)\n",
    "\n",
    "# Convert list of deepsnap graphs to deepsnap dataset with specified task=graph\n",
    "dataset = GraphDataset(graphs, task='graph')\n",
    "print(dataset)"
   ]
  },
  {
   "cell_type": "markdown",
   "metadata": {
    "id": "7sCV3xJWCddX"
   },
   "source": [
    "## Question 2.2: What is the label of the graph (index 100 in the COX2 dataset)? (5 points)\n",
    "\n",
    "Submit your answers on Gradescope."
   ]
  },
  {
   "cell_type": "code",
   "execution_count": 20,
   "metadata": {
    "id": "LIis9oTZAfs3"
   },
   "outputs": [
    {
     "name": "stdout",
     "output_type": "stream",
     "text": [
      "Graph(G=[], edge_index=[2, 82], edge_label_index=[2, 82], graph_label=[1], node_feature=[39, 35], node_label_index=[39], task=[])\n",
      "Graph with index 100 has label 0\n"
     ]
    }
   ],
   "source": [
    "def get_graph_class(dataset, idx):\n",
    "  # TODO: Implement this function that takes a deepsnap dataset object,\n",
    "  # the index of the graph in the dataset, and returns the class/label \n",
    "  # of the graph (in integer).\n",
    "\n",
    "  label = -1\n",
    "\n",
    "  ############# Your code here ############\n",
    "  ## (~1 line of code)\n",
    "  ## Note\n",
    "  ## 1. The label refers to the graph-level attribute\n",
    "  label=dataset[idx].graph_label.item()\n",
    "\n",
    "  #########################################\n",
    "\n",
    "  return label\n",
    "\n",
    "graph_0 = dataset[0]\n",
    "print(graph_0)\n",
    "idx = 100\n",
    "label = get_graph_class(dataset, idx)\n",
    "print('Graph with index {} has label {}'.format(idx, label))"
   ]
  },
  {
   "cell_type": "markdown",
   "metadata": {
    "id": "fKhcVeAhCwoY"
   },
   "source": [
    "## Question 2.3: What is the number of edges for the graph (index 200 in the COX2 dataset)? (5 points)\n",
    "\n",
    "Submit your answers on Gradescope."
   ]
  },
  {
   "cell_type": "code",
   "execution_count": 21,
   "metadata": {
    "id": "f5m2DOfhBtWv"
   },
   "outputs": [
    {
     "name": "stdout",
     "output_type": "stream",
     "text": [
      "Graph with index 200 has 49 edges\n"
     ]
    }
   ],
   "source": [
    "def get_graph_num_edges(dataset, idx):\n",
    "  # TODO: Implement this function that takes a deepsnap dataset object,\n",
    "  # the index of the graph in dataset, and returns the number of \n",
    "  # edges in the graph (in integer).\n",
    "\n",
    "  num_edges = 0\n",
    "\n",
    "  ############# Your code here ############\n",
    "  ## (~1 lines of code)\n",
    "  ## Note\n",
    "  ## 1. You can use the class property directly\n",
    "  num_edges=dataset[idx].num_edges  #https://snap.stanford.edu/deepsnap/modules/graph.html#deepsnap.graph.Graph.num_edges\n",
    "\n",
    "  #########################################\n",
    "\n",
    "  return num_edges\n",
    "\n",
    "idx = 200\n",
    "num_edges = get_graph_num_edges(dataset, idx)\n",
    "print('Graph with index {} has {} edges'.format(idx, num_edges))"
   ]
  },
  {
   "cell_type": "markdown",
   "metadata": {
    "id": "AXa7yIG4E0Fp"
   },
   "source": [
    "# 3 DeepSNAP Advanced\n",
    "\n",
    "We have learned the basic use of DeepSNAP graph and dataset :)\n",
    "\n",
    "Lets move on to some more advanced functionalities.\n",
    "\n",
    "In this section we will use DeepSNAP for feature computation and transductive/inductive splittings."
   ]
  },
  {
   "cell_type": "markdown",
   "metadata": {
    "id": "Y5fsGBLY8cxa"
   },
   "source": [
    "## Setup"
   ]
  },
  {
   "cell_type": "code",
   "execution_count": 22,
   "metadata": {
    "id": "g-jgRLiQ8cSj"
   },
   "outputs": [],
   "source": [
    "import torch\n",
    "import networkx as nx\n",
    "import matplotlib.pyplot as plt\n",
    "\n",
    "from deepsnap.graph import Graph\n",
    "from deepsnap.batch import Batch\n",
    "from deepsnap.dataset import GraphDataset\n",
    "from torch_geometric.datasets import Planetoid, TUDataset\n",
    "\n",
    "from torch.utils.data import DataLoader"
   ]
  },
  {
   "cell_type": "markdown",
   "metadata": {
    "id": "HnazPGGAJAZN"
   },
   "source": [
    "## Data Split in Graphs\n",
    "\n",
    "Data splitting in graphs can be much harder than that in CV or NLP.\n",
    "\n",
    "In general, the data splitting in graphs can be divided into two settings, **inductive** and **transductive**."
   ]
  },
  {
   "cell_type": "markdown",
   "metadata": {
    "id": "l9KG_MhqsWBp"
   },
   "source": [
    "## Inductive Split\n",
    "\n",
    "As what we have learned in the lecture, inductive setting will split multiple graphs into each training/valiation and test sets.\n",
    "\n",
    "Here is an example of DeepSNAP inductive splitting for a list of graphs in the graph level task (graph classification etc.)"
   ]
  },
  {
   "cell_type": "code",
   "execution_count": 23,
   "metadata": {
    "id": "Gpc6bTm3GF02"
   },
   "outputs": [
    {
     "name": "stdout",
     "output_type": "stream",
     "text": [
      "COX2 train dataset: GraphDataset(373)\n",
      "COX2 validation dataset: GraphDataset(46)\n",
      "COX2 test dataset: GraphDataset(48)\n"
     ]
    }
   ],
   "source": [
    "root = './tmp/cox2'\n",
    "name = 'COX2'\n",
    "\n",
    "pyg_dataset = TUDataset(root, name)\n",
    "\n",
    "graphs = GraphDataset.pyg_to_graphs(pyg_dataset)\n",
    "\n",
    "# Here we specify the task as graph-level task such as graph classification\n",
    "task = 'graph'\n",
    "dataset = GraphDataset(graphs, task=task)\n",
    "\n",
    "# Specify transductive=False (inductive)\n",
    "dataset_train, dataset_val, dataset_test = dataset.split(transductive=False, split_ratio=[0.8, 0.1, 0.1])\n",
    "\n",
    "print(\"COX2 train dataset: {}\".format(dataset_train))\n",
    "print(\"COX2 validation dataset: {}\".format(dataset_val))\n",
    "print(\"COX2 test dataset: {}\".format(dataset_test))"
   ]
  },
  {
   "cell_type": "markdown",
   "metadata": {
    "id": "yWKQwa4WsgQp"
   },
   "source": [
    "## Transductive Split\n",
    "\n",
    "In transductive setting, the training /validation / test sets are on the same graph.\n",
    "\n",
    "Here we transductively split the CORA graph in the node level task. \n",
    "\n",
    "(Notice that in DeepSNAP default setting the split is random, but you can also make a fixed split by specifying `fixed_split=True` when loading the dataset from PyG or changing the `node_label_index` directly)."
   ]
  },
  {
   "cell_type": "code",
   "execution_count": 24,
   "metadata": {
    "id": "b5OdxSg4sfyR"
   },
   "outputs": [
    {
     "name": "stdout",
     "output_type": "stream",
     "text": [
      "Cora train dataset: GraphDataset(1)\n",
      "Cora validation dataset: GraphDataset(1)\n",
      "Cora test dataset: GraphDataset(1)\n",
      "Original Cora has 2708 nodes\n",
      "After the split, Cora has 2166 training nodes\n",
      "After the split, Cora has 270 validation nodes\n",
      "After the split, Cora has 272 test nodes\n"
     ]
    }
   ],
   "source": [
    "root = './tmp/cora'\n",
    "name = 'Cora'\n",
    "\n",
    "pyg_dataset = Planetoid(root, name)\n",
    "\n",
    "graphs = GraphDataset.pyg_to_graphs(pyg_dataset)\n",
    "\n",
    "# Here we specify the task as node-level task such as node classification\n",
    "task = 'node'\n",
    "\n",
    "dataset = GraphDataset(graphs, task=task)\n",
    "\n",
    "# Specify we want the transductive splitting\n",
    "dataset_train, dataset_val, dataset_test = dataset.split(transductive=True, split_ratio=[0.8, 0.1, 0.1])\n",
    "\n",
    "print(\"Cora train dataset: {}\".format(dataset_train))\n",
    "print(\"Cora validation dataset: {}\".format(dataset_val))\n",
    "print(\"Cora test dataset: {}\".format(dataset_test))\n",
    "\n",
    "print(\"Original Cora has {} nodes\".format(dataset.num_nodes[0]))\n",
    "\n",
    "# The nodes in each set can be find in node_label_index\n",
    "print(\"After the split, Cora has {} training nodes\".format(dataset_train[0].node_label_index.shape[0]))\n",
    "print(\"After the split, Cora has {} validation nodes\".format(dataset_val[0].node_label_index.shape[0]))\n",
    "print(\"After the split, Cora has {} test nodes\".format(dataset_test[0].node_label_index.shape[0]))"
   ]
  },
  {
   "cell_type": "markdown",
   "metadata": {
    "id": "d7ePKgM00lGE"
   },
   "source": [
    "## Edge Level Split\n",
    "\n",
    "Compared to the node and graph level splitting, edge level splitting is a little bit tricky ;)\n",
    "\n",
    "Usually in edge level splitting, we need to sample negative edges, split positive edges into different datasets, split training edges into message passing edges and supervision edges, and resample the negative edges during the training etc."
   ]
  },
  {
   "cell_type": "markdown",
   "metadata": {
    "id": "SnzISX5RoiR6"
   },
   "source": [
    "### All Mode\n",
    "\n",
    "Now lets start with a simpler edge level splitting mode, the `edge_train_mode=\"all\"` mode in DeepSNAP."
   ]
  },
  {
   "cell_type": "code",
   "execution_count": 25,
   "metadata": {
    "id": "_D104xO6137n"
   },
   "outputs": [
    {
     "name": "stdout",
     "output_type": "stream",
     "text": [
      "Cora train dataset: GraphDataset(1)\n",
      "Cora validation dataset: GraphDataset(1)\n",
      "Cora test dataset: GraphDataset(1)\n"
     ]
    }
   ],
   "source": [
    "root = './tmp/cora'\n",
    "name = 'Cora'\n",
    "\n",
    "pyg_dataset = Planetoid(root, name)\n",
    "\n",
    "graphs = GraphDataset.pyg_to_graphs(pyg_dataset)\n",
    "\n",
    "# Specify task as link_pred for edge-level task\n",
    "task = 'link_pred'\n",
    "\n",
    "# Specify the train mode, \"all\" mode is default for deepsnap dataset\n",
    "edge_train_mode = \"all\"\n",
    "\n",
    "dataset = GraphDataset(graphs, task=task, edge_train_mode=edge_train_mode)\n",
    "\n",
    "# Transductive link prediction split\n",
    "dataset_train, dataset_val, dataset_test = dataset.split(transductive=True, split_ratio=[0.8, 0.1, 0.1])\n",
    "\n",
    "print(\"Cora train dataset: {}\".format(dataset_train))\n",
    "print(\"Cora validation dataset: {}\".format(dataset_val))\n",
    "print(\"Cora test dataset: {}\".format(dataset_test))"
   ]
  },
  {
   "cell_type": "markdown",
   "metadata": {
    "id": "GscopwOXC_Y7"
   },
   "source": [
    "In DeepSNAP, the indices of supervision edges are stored in `edge_label_index` tensor and the corresponding edge labels are stored in `edge_label` tensor."
   ]
  },
  {
   "cell_type": "code",
   "execution_count": 26,
   "metadata": {
    "id": "XJF8fZnA2eLR"
   },
   "outputs": [
    {
     "name": "stdout",
     "output_type": "stream",
     "text": [
      "Original Cora graph has 5278 edges\n",
      "Because Cora graph is undirected, the original edge_index has shape torch.Size([2, 10556])\n",
      "The training set has message passing edge index shape torch.Size([2, 8444])\n",
      "The training set has supervision edge index shape torch.Size([2, 16888])\n",
      "The validation set has message passing edge index shape torch.Size([2, 8444])\n",
      "The validation set has supervision edge index shape torch.Size([2, 2108])\n",
      "The test set has message passing edge index shape torch.Size([2, 9498])\n",
      "The test set has supervision edge index shape torch.Size([2, 2116])\n"
     ]
    }
   ],
   "source": [
    "print(\"Original Cora graph has {} edges\".format(dataset[0].num_edges))\n",
    "print(\"Because Cora graph is undirected, the original edge_index has shape {}\".format(dataset[0].edge_index.shape))\n",
    "\n",
    "print(\"The training set has message passing edge index shape {}\".format(dataset_train[0].edge_index.shape))\n",
    "print(\"The training set has supervision edge index shape {}\".format(dataset_train[0].edge_label_index.shape))\n",
    "\n",
    "print(\"The validation set has message passing edge index shape {}\".format(dataset_val[0].edge_index.shape))\n",
    "print(\"The validation set has supervision edge index shape {}\".format(dataset_val[0].edge_label_index.shape))\n",
    "\n",
    "print(\"The test set has message passing edge index shape {}\".format(dataset_test[0].edge_index.shape))\n",
    "print(\"The test set has supervision edge index shape {}\".format(dataset_test[0].edge_label_index.shape))"
   ]
  },
  {
   "cell_type": "markdown",
   "metadata": {
    "id": "s6BX-I_oEKQX"
   },
   "source": [
    "We can see that both training and validation sets have the same message passing edges (`edge_index`) in the `all` mode. Also, in training set, the postive supervision edges (`edge_label_index`) are same with the message passing edges. However, in the test set the message passing edges are the combination of message passing edges from training and validation sets.\n",
    "\n",
    "Notice that the `edge_label` and `edge_label_index` have included the negative edges (default number of negative edges is same with the number of positive edges).\n",
    "\n",
    "Now, lets implement a function that checks whether two edge index tensors are disjoint and explore more edge splitting properties by using that function."
   ]
  },
  {
   "cell_type": "markdown",
   "metadata": {
    "id": "YOZHDskbAKN6"
   },
   "source": [
    "## Question 3.1 - 3.5: Implement the function that checks whether two edge_index tensors are disjoint. Then answer the True/False questions below. (5 points)\n",
    "\n",
    "Submit your answers on Gradescope."
   ]
  },
  {
   "cell_type": "code",
   "execution_count": 27,
   "metadata": {},
   "outputs": [
    {
     "name": "stdout",
     "output_type": "stream",
     "text": [
      "True\n",
      "True\n",
      "False\n",
      "True\n"
     ]
    }
   ],
   "source": [
    "#PRW\n",
    "s=set()\n",
    "eg1=tuple(torch.tensor([1,2]).numpy())\n",
    "eg2=tuple(torch.tensor([1,2]).numpy())\n",
    "eg3=tuple(torch.tensor([2,1]).numpy())\n",
    "eg4=tuple(torch.tensor([2,1]).numpy()[::-1])\n",
    "s.add(eg1)\n",
    "print(eg1 in s)\n",
    "print(eg2 in s)\n",
    "print(eg3 in s)\n",
    "print(eg4 in s)"
   ]
  },
  {
   "cell_type": "code",
   "execution_count": 28,
   "metadata": {},
   "outputs": [
    {
     "data": {
      "text/plain": [
       "(1, 2)"
      ]
     },
     "execution_count": 28,
     "metadata": {},
     "output_type": "execute_result"
    }
   ],
   "source": [
    "#PRW\n",
    "eg1"
   ]
  },
  {
   "cell_type": "code",
   "execution_count": 29,
   "metadata": {},
   "outputs": [
    {
     "data": {
      "text/plain": [
       "array([1, 2])"
      ]
     },
     "execution_count": 29,
     "metadata": {},
     "output_type": "execute_result"
    }
   ],
   "source": [
    "#PRW\n",
    "eg4=torch.tensor([2,1]).numpy()[::-1]\n",
    "eg4"
   ]
  },
  {
   "cell_type": "code",
   "execution_count": 30,
   "metadata": {
    "id": "wgRYdyPp8EmO"
   },
   "outputs": [],
   "source": [
    "def edge_indices_disjoint(edge_index_1, edge_index_2):\n",
    "  # TODO: Implement this function that takes two edge index tensors,\n",
    "  # and returns whether these two edge index tensors are disjoint.\n",
    "  disjoint = None\n",
    "\n",
    "  ############# Your code here ############\n",
    "  ## (~5 lines of code)\n",
    "  ## Note\n",
    "  ## 1. Here disjoint means that there is no single edge belongs to either edge index tensors\n",
    "  ## 2. You do not need to consider the undirected case. For example, if edge_index_1 contains\n",
    "  ## edge (a, b) and edge_index_2 contains edge (b, a). We will treat them as disjoint in this\n",
    "  ## function.\n",
    "\n",
    "  #遍历应该会贼慢，所以用集合\n",
    "  edge_set=set()\n",
    "  for i in range(edge_index_1.shape[1]):\n",
    "    e=tuple(edge_index_1[:,i].numpy())\n",
    "    edge_set.add(e)\n",
    "  for j in range(edge_index_2.shape[1]):\n",
    "    e1=tuple(edge_index_2[:,j].numpy())\n",
    "    if e1 in edge_set:\n",
    "      return False\n",
    "    e2=tuple(edge_index_2[:,j].numpy()[::-1])\n",
    "    if e2 in edge_set:\n",
    "      return False\n",
    "  disjoint=True\n",
    "\n",
    "  #########################################\n",
    "\n",
    "  return disjoint"
   ]
  },
  {
   "cell_type": "code",
   "execution_count": 31,
   "metadata": {
    "id": "EL4ASIDDEIUf"
   },
   "outputs": [
    {
     "name": "stdout",
     "output_type": "stream",
     "text": [
      "3.1 Training (supervision) positve and negative edges are disjoint = True\n",
      "3.2 Validation (supervision) positve and negative edges are disjoint = True\n",
      "3.3 Test (supervision) positve and negative edges are disjoint = True\n",
      "3.4 Test (supervision) positve and validation (supervision) positve edges are disjoint = True\n",
      "3.5 Validation (supervision) positve and training (supervision) positve edges are disjoint = True\n"
     ]
    }
   ],
   "source": [
    "num_train_edges = dataset_train[0].edge_label_index.shape[1] // 2\n",
    "train_pos_edge_index = dataset_train[0].edge_label_index[:, :num_train_edges]\n",
    "train_neg_edge_index = dataset_train[0].edge_label_index[:, num_train_edges:]\n",
    "print(\"3.1 Training (supervision) positve and negative edges are disjoint = {}\"\\\n",
    "        .format(edge_indices_disjoint(train_pos_edge_index, train_neg_edge_index)))\n",
    "\n",
    "num_val_edges = dataset_val[0].edge_label_index.shape[1] // 2\n",
    "val_pos_edge_index = dataset_val[0].edge_label_index[:, :num_val_edges]\n",
    "val_neg_edge_index = dataset_val[0].edge_label_index[:, num_val_edges:]\n",
    "print(\"3.2 Validation (supervision) positve and negative edges are disjoint = {}\"\\\n",
    "        .format(edge_indices_disjoint(val_pos_edge_index, val_neg_edge_index)))\n",
    "\n",
    "num_test_edges = dataset_test[0].edge_label_index.shape[1] // 2\n",
    "test_pos_edge_index = dataset_test[0].edge_label_index[:, :num_test_edges]\n",
    "test_neg_edge_index = dataset_test[0].edge_label_index[:, num_test_edges:]\n",
    "print(\"3.3 Test (supervision) positve and negative edges are disjoint = {}\"\\\n",
    "        .format(edge_indices_disjoint(test_pos_edge_index, test_neg_edge_index)))\n",
    "\n",
    "print(\"3.4 Test (supervision) positve and validation (supervision) positve edges are disjoint = {}\"\\\n",
    "        .format(edge_indices_disjoint(test_pos_edge_index, val_pos_edge_index)))\n",
    "print(\"3.5 Validation (supervision) positve and training (supervision) positve edges are disjoint = {}\"\\\n",
    "        .format(edge_indices_disjoint(val_pos_edge_index, train_pos_edge_index)))"
   ]
  },
  {
   "cell_type": "code",
   "execution_count": 32,
   "metadata": {},
   "outputs": [
    {
     "data": {
      "text/plain": [
       "1174"
      ]
     },
     "execution_count": 32,
     "metadata": {},
     "output_type": "execute_result"
    }
   ],
   "source": [
    "#PRW\n",
    "dataset_train[0].edge_label_index[:,1][0].item()"
   ]
  },
  {
   "cell_type": "markdown",
   "metadata": {
    "id": "8jLoVN5ZBTuA"
   },
   "source": [
    "### Disjoint Mode\n",
    "\n",
    "Now lets look at a relatively more complex transductive edge split setting, which is the `edge_train_mode=\"disjoint\"` mode in DeepSNAP (also the transductive link prediction splitting talked in the lecture)"
   ]
  },
  {
   "cell_type": "code",
   "execution_count": 33,
   "metadata": {
    "id": "3Rqzfb-0BTBm"
   },
   "outputs": [
    {
     "name": "stdout",
     "output_type": "stream",
     "text": [
      "The edge index of original graph has shape: torch.Size([2, 10556])\n",
      "The edge index of training message edges has shape: torch.Size([2, 6754])\n",
      "The edge index of training supervision edges has shape: torch.Size([2, 3380])\n",
      "The edge index of validation message edges has shape: torch.Size([2, 8444])\n",
      "The edge index of validation supervision edges has shape: torch.Size([2, 2108])\n",
      "The edge index of test message edges has shape: torch.Size([2, 9498])\n",
      "The edge index of test supervision edges has shape: torch.Size([2, 2116])\n"
     ]
    }
   ],
   "source": [
    "edge_train_mode = \"disjoint\"\n",
    "\n",
    "dataset = GraphDataset(graphs, task='link_pred', edge_train_mode=edge_train_mode)\n",
    "orig_edge_index = dataset[0].edge_index\n",
    "dataset_train, dataset_val, dataset_test = dataset.split(\n",
    "    transductive=True, split_ratio=[0.8, 0.1, 0.1])\n",
    "\n",
    "train_message_edge_index = dataset_train[0].edge_index\n",
    "train_sup_edge_index = dataset_train[0].edge_label_index\n",
    "val_sup_edge_index = dataset_val[0].edge_label_index\n",
    "test_sup_edge_index = dataset_test[0].edge_label_index\n",
    "\n",
    "print(\"The edge index of original graph has shape: {}\".format(orig_edge_index.shape))\n",
    "print(\"The edge index of training message edges has shape: {}\".format(train_message_edge_index.shape))\n",
    "print(\"The edge index of training supervision edges has shape: {}\".format(train_sup_edge_index.shape))\n",
    "print(\"The edge index of validation message edges has shape: {}\".format(dataset_val[0].edge_index.shape))\n",
    "print(\"The edge index of validation supervision edges has shape: {}\".format(val_sup_edge_index.shape))\n",
    "print(\"The edge index of test message edges has shape: {}\".format(dataset_test[0].edge_index.shape))\n",
    "print(\"The edge index of test supervision edges has shape: {}\".format(test_sup_edge_index.shape))"
   ]
  },
  {
   "cell_type": "markdown",
   "metadata": {
    "id": "TUkBhiJNciol"
   },
   "source": [
    "You can see that the training / validation message passing edges and training supervision edges are splitted differently in those two modes!"
   ]
  },
  {
   "cell_type": "markdown",
   "metadata": {
    "id": "2WKfRjqAJHtK"
   },
   "source": [
    "### Resample Negative Edges\n",
    "\n",
    "During each training iteration, we usually need to resample the negative edges.\n",
    "\n",
    "Below we print the training and validation sets negative edges in two training iterations.\n",
    "\n",
    "You should find that the negative edges in training set will be resampled."
   ]
  },
  {
   "cell_type": "code",
   "execution_count": 34,
   "metadata": {
    "id": "AMEbnx63JHWj"
   },
   "outputs": [
    {
     "name": "stdout",
     "output_type": "stream",
     "text": [
      "First iteration training negative edges:\n",
      "tensor([[1879,  882, 2574,  ..., 1766, 2088, 1036],\n",
      "        [ 832, 1563, 2227,  ..., 2253, 1096, 1347]])\n",
      "Second iteration training negative edges:\n",
      "tensor([[ 632, 2139, 1933,  ...,  147,  849, 2302],\n",
      "        [ 214,   63, 1586,  ...,  793, 2532, 2294]])\n",
      "First iteration validation negative edges:\n",
      "tensor([[1532, 2007, 2697,  ...,  631, 1702, 1183],\n",
      "        [1134, 2253,  407,  ...,  732,   15, 1412]])\n",
      "Second iteration validation negative edges:\n",
      "tensor([[1532, 2007, 2697,  ...,  631, 1702, 1183],\n",
      "        [1134, 2253,  407,  ...,  732,   15, 1412]])\n"
     ]
    }
   ],
   "source": [
    "dataset = GraphDataset(graphs, task='link_pred', edge_train_mode=\"disjoint\")\n",
    "datasets = {}\n",
    "follow_batch = []\n",
    "datasets['train'], datasets['val'], datasets['test'] = dataset.split(\n",
    "    transductive=True, split_ratio=[0.8, 0.1, 0.1])\n",
    "dataloaders = {\n",
    "  split: DataLoader(\n",
    "    ds, collate_fn=Batch.collate(follow_batch),\n",
    "    batch_size=1, shuffle=(split=='train')\n",
    "  )\n",
    "  for split, ds in datasets.items()\n",
    "}\n",
    "neg_edges_1 = None\n",
    "for batch in dataloaders['train']:\n",
    "  num_edges = batch.edge_label_index.shape[1] // 2\n",
    "  neg_edges_1 = batch.edge_label_index[:, num_edges:]\n",
    "  print(\"First iteration training negative edges:\")\n",
    "  print(neg_edges_1)\n",
    "  break\n",
    "neg_edges_2 = None\n",
    "for batch in dataloaders['train']:\n",
    "  num_edges = batch.edge_label_index.shape[1] // 2\n",
    "  neg_edges_2 = batch.edge_label_index[:, num_edges:]\n",
    "  print(\"Second iteration training negative edges:\")\n",
    "  print(neg_edges_2)\n",
    "  break\n",
    "\n",
    "neg_edges_1 = None\n",
    "for batch in dataloaders['val']:\n",
    "  num_edges = batch.edge_label_index.shape[1] // 2\n",
    "  neg_edges_1 = batch.edge_label_index[:, num_edges:]\n",
    "  print(\"First iteration validation negative edges:\")\n",
    "  print(neg_edges_1)\n",
    "  break\n",
    "neg_edges_2 = None\n",
    "for batch in dataloaders['val']:\n",
    "  num_edges = batch.edge_label_index.shape[1] // 2\n",
    "  neg_edges_2 = batch.edge_label_index[:, num_edges:]\n",
    "  print(\"Second iteration validation negative edges:\")\n",
    "  print(neg_edges_2)\n",
    "  break"
   ]
  },
  {
   "cell_type": "markdown",
   "metadata": {
    "id": "DEzqh7wEdrh0"
   },
   "source": [
    "If you are interested in more graph splitting settings, please refer to the DeepSNAP dataset [documentation](https://snap.stanford.edu/deepsnap/modules/dataset.html)."
   ]
  },
  {
   "cell_type": "markdown",
   "metadata": {
    "id": "XkrYyeSUI_9_"
   },
   "source": [
    "## Graph Transformation and Feature Computation\n",
    "\n",
    "The other DeepSNAP core functionality is graph transformation / feature computation.\n",
    "\n",
    "In DeepSNAP, we divide graph transformation / feature computation into two different types. One is the transformation before training (transform the whole dataset before training directly) and another one is the transformation during training (transform batches of graphs).\n",
    "\n",
    "Here is an example that uses NetworkX back end to calculate the PageRank value and update the value to tensors before the training (transform the dataset)."
   ]
  },
  {
   "cell_type": "code",
   "execution_count": 35,
   "metadata": {
    "id": "gnAVbZINLZ4I"
   },
   "outputs": [
    {
     "name": "stdout",
     "output_type": "stream",
     "text": [
      "Number of features before transformation: 35\n",
      "Number of features after transformation: 36\n"
     ]
    }
   ],
   "source": [
    "def pagerank_transform_fn(graph):\n",
    "\n",
    "  # Get the referenced networkx graph\n",
    "  G = graph.G\n",
    "\n",
    "  # Calculate the pagerank by using networkx\n",
    "  pr = nx.pagerank(G)\n",
    "\n",
    "  # Transform the pagerank values to tensor\n",
    "  pr_feature = torch.tensor([pr[node] for node in range(graph.num_nodes)], dtype=torch.float32)\n",
    "  pr_feature = pr_feature.view(graph.num_nodes, 1)\n",
    "\n",
    "  # Concat the pagerank values to the node feature\n",
    "  graph.node_feature = torch.cat([graph.node_feature, pr_feature], dim=-1)\n",
    "\n",
    "root = './tmp/cox2'\n",
    "name = 'COX2'\n",
    "pyg_dataset = TUDataset(root, name)\n",
    "graphs = GraphDataset.pyg_to_graphs(pyg_dataset)\n",
    "dataset = GraphDataset(graphs, task='graph')\n",
    "print(\"Number of features before transformation: {}\".format(dataset.num_node_features))\n",
    "dataset.apply_transform(pagerank_transform_fn, update_tensor=False)\n",
    "print(\"Number of features after transformation: {}\".format(dataset.num_node_features))"
   ]
  },
  {
   "cell_type": "markdown",
   "metadata": {
    "id": "LHByE87SQkUw"
   },
   "source": [
    "## Question 3.6: Implement the transformation below and report the clustering coefficient of the node (index 3) of the graph (index 406) in the COX2 dataset. Rounded the answer to two decimal places. (5 points)"
   ]
  },
  {
   "cell_type": "code",
   "execution_count": 36,
   "metadata": {},
   "outputs": [
    {
     "name": "stdout",
     "output_type": "stream",
     "text": [
      "<class 'networkx.classes.graph.Graph'>\n",
      "{0: 0.03320187324334541, 1: 0.03140409249831948, 2: 0.03153195626178245, 3: 0.033999294562979045, 4: 0.03445399167017414, 5: 0.032311799784932586, 6: 0.0325260484487752, 7: 0.03446771688692439, 8: 0.03492764351353999, 9: 0.03400572002885134, 10: 0.03492764351353999, 11: 0.03446771688692439, 12: 0.03491212916795992, 13: 0.035900570307606516, 14: 0.03617171252798891, 15: 0.035900570307606516, 16: 0.03491212916795992, 17: 0.014094182936016601, 18: 0.05033953008328389, 19: 0.048784416428741144, 20: 0.01421311870261539, 21: 0.01421311870261539, 22: 0.05243329098846763, 23: 0.01347941857377365, 24: 0.013607817899048346, 25: 0.013611921935259813, 26: 0.013742454509271822, 27: 0.013742454509271822, 28: 0.013611921935259813, 29: 0.013737355150878086, 30: 0.0140185909846367, 31: 0.0140185909846367, 32: 0.013737355150878086, 33: 0.014542717197278045, 34: 0.014542717197278045, 35: 0.014542717197278045, 36: 0.014987900051433497, 37: 0.014987900051433497, 38: 0.014987900051433497}\n",
      "{0: 0, 1: 0, 2: 0, 3: 0, 4: 0, 5: 0, 6: 0, 7: 0, 8: 0, 9: 0, 10: 0, 11: 0, 12: 0, 13: 0, 14: 0, 15: 0, 16: 0, 17: 0, 18: 0, 19: 0, 20: 0, 21: 0, 22: 0, 23: 0, 24: 0, 25: 0, 26: 0, 27: 0, 28: 0, 29: 0, 30: 0, 31: 0, 32: 0, 33: 0, 34: 0, 35: 0, 36: 0, 37: 0, 38: 0}\n",
      "39\n"
     ]
    }
   ],
   "source": [
    "#PRW\n",
    "print(type(graphs[0].G))\n",
    "print(nx.pagerank(graphs[0].G))\n",
    "print(nx.clustering(graphs[0].G))\n",
    "print(graphs[0].num_nodes)"
   ]
  },
  {
   "cell_type": "code",
   "execution_count": 37,
   "metadata": {
    "id": "RNEjfOZRNjYb"
   },
   "outputs": [
    {
     "name": "stdout",
     "output_type": "stream",
     "text": [
      "The node has clustering coefficient: 0.17\n"
     ]
    }
   ],
   "source": [
    "def cluster_transform_fn(graph):\n",
    "  # TODO: Implement this function that takes an deepsnap graph object,\n",
    "  # transform the graph by adding nodes clustering coefficient into the \n",
    "  # graph.node_feature\n",
    "\n",
    "  ############# Your code here ############\n",
    "  ## (~5 lines of code)\n",
    "  ## Note\n",
    "  ## 1. Compute the clustering coefficient value for each node and\n",
    "  ## concat them to the last dimension of graph.node_feature\n",
    "  G=graph.G\n",
    "  cc=nx.clustering(G)\n",
    "  cc_feature = torch.tensor([cc[node] for node in range(graph.num_nodes)], dtype=torch.float32)\n",
    "  cc_feature = cc_feature.view(graph.num_nodes, 1)\n",
    "  graph.node_feature = torch.cat([graph.node_feature, cc_feature], dim=-1)\n",
    "\n",
    "  #########################################\n",
    "\n",
    "root = './cox2'\n",
    "name = 'COX2'\n",
    "pyg_dataset = TUDataset(root, name)\n",
    "graphs = GraphDataset.pyg_to_graphs(pyg_dataset)\n",
    "dataset = GraphDataset(graphs, task='graph')\n",
    "\n",
    "# Transform the dataset\n",
    "dataset.apply_transform(cluster_transform_fn, update_tensor=False)\n",
    "\n",
    "node_idx = 3\n",
    "graph_idx = 406\n",
    "node_feature = dataset[graph_idx].node_feature\n",
    "\n",
    "print(\"The node has clustering coefficient: {}\".format(round(node_feature[node_idx][-1].item(), 2)))"
   ]
  },
  {
   "cell_type": "markdown",
   "metadata": {
    "id": "4P5Ig7XaPYzp"
   },
   "source": [
    "Apart from transforming the dataset, DeepSNAP can also transform the graph (usually the `deepsnap.batch.Batch`) during each training iteration.\n",
    "\n",
    "Also, DeepSNAP supports the synchronization of the transformation between the referenced graph objects and tensor representations. For example, you can just update the NetworkX graph object in the transform function, and by specifying `update_tensor=True` the internal tensor representations will be automatically updated.\n",
    "\n",
    "For more information, please refer to the DeepSNAP [documentation](https://snap.stanford.edu/deepsnap/)."
   ]
  },
  {
   "cell_type": "markdown",
   "metadata": {
    "id": "s-YLYMLFQYqp"
   },
   "source": [
    "# 4 Edge Level Prediction\n",
    "\n",
    "From last section, we know how DeepSNAP transductive split the edges in the link prediction task.\n",
    "\n",
    "Now lets use DeepSNAP and PyG together to implement a edge level prediction (link prediction) model!"
   ]
  },
  {
   "cell_type": "code",
   "execution_count": 38,
   "metadata": {},
   "outputs": [
    {
     "data": {
      "text/plain": [
       "tensor([ 0,  0,  0,  1,  1,  2,  2,  3,  3,  4,  5,  5,  6,  6,  7,  7,  8,  8,\n",
       "         9,  9, 10, 10, 11, 12, 12, 13, 13, 14, 14, 15, 15, 16, 18, 18, 18, 19,\n",
       "        19, 19, 22, 22, 22,  1,  4, 18,  2,  6,  3,  5,  4, 23, 24,  7, 11, 12,\n",
       "        16,  8, 25,  9, 26, 10, 19, 11, 27, 28, 13, 29, 14, 30, 15, 17, 16, 31,\n",
       "        32, 33, 34, 35, 20, 21, 22, 36, 37, 38])"
      ]
     },
     "execution_count": 38,
     "metadata": {},
     "output_type": "execute_result"
    }
   ],
   "source": [
    "#PRW\n",
    "dataset[0].edge_label_index[0]"
   ]
  },
  {
   "cell_type": "code",
   "execution_count": 39,
   "metadata": {
    "id": "hrKCNtvERypQ"
   },
   "outputs": [],
   "source": [
    "import copy\n",
    "import torch\n",
    "import numpy as np\n",
    "import networkx as nx\n",
    "import matplotlib.pyplot as plt\n",
    "\n",
    "from deepsnap.graph import Graph\n",
    "from deepsnap.batch import Batch\n",
    "from deepsnap.dataset import GraphDataset\n",
    "from torch_geometric.datasets import Planetoid, TUDataset\n",
    "\n",
    "from torch.utils.data import DataLoader\n",
    "\n",
    "import torch.nn.functional as F\n",
    "from torch_geometric.nn import SAGEConv\n",
    "\n",
    "class LinkPredModel(torch.nn.Module):\n",
    "    def __init__(self, input_dim, hidden_dim, num_classes, dropout=0.2):\n",
    "        super(LinkPredModel, self).__init__()\n",
    "\n",
    "        self.conv1 = SAGEConv(input_dim, hidden_dim)\n",
    "        self.conv2 = SAGEConv(hidden_dim, num_classes)\n",
    "\n",
    "        self.loss_fn = None\n",
    "\n",
    "        ############# Your code here #############\n",
    "        ## (~1 line of code)\n",
    "        ## Note\n",
    "        ## 1. Initialize the loss function to BCEWithLogitsLoss\n",
    "        self.loss_fn=nn.BCEWithLogitsLoss()\n",
    "\n",
    "        ##########################################\n",
    "\n",
    "        self.dropout = dropout\n",
    "\n",
    "    def reset_parameters(self):\n",
    "        self.conv1.reset_parameters()\n",
    "        self.conv2.reset_parameters()\n",
    "\n",
    "    def forward(self, batch):\n",
    "        node_feature, edge_index, edge_label_index = batch.node_feature, batch.edge_index, batch.edge_label_index\n",
    "        \n",
    "        ############# Your code here #############\n",
    "        ## (~6 line of code)\n",
    "        ## Note\n",
    "        ## 1. Feed the node feature into the first conv layer\n",
    "        ## 2. Add a ReLU after the first conv layer\n",
    "        ## 3. Add dropout after the ReLU (with probability self.dropout)\n",
    "        ## 4. Feed the output to the second conv layer\n",
    "        ## 5. Select the embeddings of the source nodes and destination nodes\n",
    "        ## by using the edge_label_index and compute the similarity of each pair\n",
    "        ## by dot product\n",
    "        pred=self.conv1(node_feature,edge_index)\n",
    "        pred=F.relu(pred)\n",
    "        pred=F.dropout(pred,self.dropout,self.training)  #看到有一个答案没加self.training也能抛出结果。啊这，什么玩意啊到底？\n",
    "        pred=self.conv2(pred,edge_index)\n",
    "        #print(pred.size())  torch.Size([2708, 2])\n",
    "        source_nodes=pred[edge_label_index][0]\n",
    "        #print(edge_label_index.size())  torch.Size([2, 3592])\n",
    "        #print(source_nodes.size())  torch.Size([3592, 2])\n",
    "        destination_nodes=pred[edge_label_index][1]\n",
    "        pred=(source_nodes*destination_nodes).sum(axis=1)\n",
    "        \n",
    "        ##########################################\n",
    "\n",
    "        return pred\n",
    "    \n",
    "    def loss(self, pred, link_label):\n",
    "        return self.loss_fn(pred, link_label)"
   ]
  },
  {
   "cell_type": "code",
   "execution_count": 40,
   "metadata": {},
   "outputs": [
    {
     "data": {
      "text/plain": [
       "tensor([  53, 1848,  552,  ...,  631, 1702, 1183])"
      ]
     },
     "execution_count": 40,
     "metadata": {},
     "output_type": "execute_result"
    }
   ],
   "source": [
    "#PRW\n",
    "batch.edge_label_index[0]"
   ]
  },
  {
   "cell_type": "code",
   "execution_count": 41,
   "metadata": {
    "id": "uuKbGFOu1Ka8"
   },
   "outputs": [],
   "source": [
    "from sklearn.metrics import *\n",
    "\n",
    "def train(model, dataloaders, optimizer, args):\n",
    "    val_max = 0\n",
    "    best_model = model\n",
    "\n",
    "    for epoch in range(1, args[\"epochs\"]):\n",
    "        for i, batch in enumerate(dataloaders['train']):\n",
    "            \n",
    "            batch.to(args[\"device\"])\n",
    "\n",
    "            ############# Your code here #############\n",
    "            ## (~6 lines of code)\n",
    "            ## Note\n",
    "            ## 1. Zero grad the optimizer\n",
    "            ## 2. Compute loss and backpropagate\n",
    "            ## 3. Update the model parameters\n",
    "            model.train()  #阿巴阿巴阿巴，我不知道这个是干啥用的，反正我看答案里面写了\n",
    "            optimizer.zero_grad()\n",
    "            p=model(batch)\n",
    "            #print(p.size())  torch.Size([3592])\n",
    "            #print(batch.edge_label.size())  torch.Size([3592])\n",
    "            loss=model.loss(p,batch.edge_label.float())  #第二个参数也可以用type_as(pred))\n",
    "            loss.backward()\n",
    "            optimizer.step()\n",
    "\n",
    "            ##########################################\n",
    "\n",
    "            log = 'Epoch: {:03d}, Train: {:.4f}, Val: {:.4f}, Test: {:.4f}, Loss: {}'\n",
    "            score_train = test(model, dataloaders['train'], args)\n",
    "            score_val = test(model, dataloaders['val'], args)\n",
    "            score_test = test(model, dataloaders['test'], args)\n",
    "\n",
    "            print(log.format(epoch, score_train, score_val, score_test, loss.item()))\n",
    "            if val_max < score_val:\n",
    "                val_max = score_val\n",
    "                best_model = copy.deepcopy(model)\n",
    "    return best_model\n",
    "\n",
    "def test(model, dataloader, args):\n",
    "    model.eval()\n",
    "\n",
    "    score = 0\n",
    "\n",
    "    ############# Your code here #############\n",
    "    ## (~5 lines of code)\n",
    "    ## Note\n",
    "    ## 1. Loop through batches in the dataloader\n",
    "    ## 2. Feed the batch to the model\n",
    "    ## 3. Feed the model output to sigmoid\n",
    "    ## 4. Compute the ROC-AUC score by using sklearn roc_auc_score function\n",
    "    ## 5. Edge labels are stored in batch.edge_label\n",
    "    \n",
    "    for batch in dataloader:  #这个dataloader到底怎么用以后再研究，反正看答案可以这么写\n",
    "        batch.to(args[\"device\"])\n",
    "        p=model(batch)\n",
    "        #print(p.size())  torch.Size([2116])\n",
    "        #p=nn.Sigmoid(p)不知道为啥反正这个不行。看了一下答案改用torch.sigmoid了。以后再研究nn里面这个是怎么回事\n",
    "        p=torch.sigmoid(p)\n",
    "        p=p.cpu().detach().numpy()  #这后面跟的一堆是输出让我这么干的……\n",
    "        label=batch.edge_label.cpu().detach().numpy()\n",
    "        #print(p)\n",
    "        #print(label)\n",
    "        score+=roc_auc_score(label,p)\n",
    "    score=score/len(dataloader)\n",
    "    \n",
    "    ##########################################\n",
    " \n",
    "    return score"
   ]
  },
  {
   "cell_type": "code",
   "execution_count": 42,
   "metadata": {},
   "outputs": [
    {
     "data": {
      "text/plain": [
       "[(0,\n",
       "  Batch(G=[1], batch=[2708], edge_index=[2, 9498], edge_label=[2116], edge_label_index=[2, 2116], negative_label_val=[1], node_feature=[2708, 1433], node_label=[2708], node_label_index=[2708]))]"
      ]
     },
     "execution_count": 42,
     "metadata": {},
     "output_type": "execute_result"
    }
   ],
   "source": [
    "#PRW\n",
    "list(enumerate(dataloaders['test']))"
   ]
  },
  {
   "cell_type": "code",
   "execution_count": 43,
   "metadata": {},
   "outputs": [
    {
     "name": "stdout",
     "output_type": "stream",
     "text": [
      "tensor([-1.0730, -1.5740,  2.6048,  ..., -0.7717, -0.1354,  0.0812])\n",
      "tensor([0.2548, 0.1716, 0.9312,  ..., 0.3161, 0.4662, 0.5203])\n"
     ]
    }
   ],
   "source": [
    "#PRW\n",
    "eg_tensor2=torch.randn([2116])\n",
    "print(eg_tensor2)\n",
    "print(torch.sigmoid(eg_tensor2))"
   ]
  },
  {
   "cell_type": "code",
   "execution_count": 44,
   "metadata": {},
   "outputs": [
    {
     "name": "stdout",
     "output_type": "stream",
     "text": [
      "tensor([-0.0866,  0.4947])\n",
      "tensor([0.4784, 0.6212])\n"
     ]
    }
   ],
   "source": [
    "#PRW\n",
    "m = nn.Sigmoid()\n",
    "input = torch.randn(2)\n",
    "output = m(input)\n",
    "print(input)\n",
    "print(output)"
   ]
  },
  {
   "cell_type": "code",
   "execution_count": 45,
   "metadata": {
    "id": "JTKWYX1b33V3"
   },
   "outputs": [],
   "source": [
    "# Please don't change any parameters\n",
    "args = {\n",
    "    \"device\" : 'cuda' if torch.cuda.is_available() else 'cpu',\n",
    "    \"hidden_dim\" : 128,\n",
    "    \"epochs\" : 200,\n",
    "}"
   ]
  },
  {
   "cell_type": "code",
   "execution_count": 46,
   "metadata": {
    "id": "Klw_xYnE27xQ",
    "scrolled": true
   },
   "outputs": [
    {
     "name": "stdout",
     "output_type": "stream",
     "text": [
      "Epoch: 001, Train: 0.5569, Val: 0.5409, Test: 0.5429, Loss: 0.6929886937141418\n",
      "Epoch: 002, Train: 0.5555, Val: 0.5412, Test: 0.5430, Loss: 0.6929839253425598\n",
      "Epoch: 003, Train: 0.5550, Val: 0.5418, Test: 0.5433, Loss: 0.6930170655250549\n",
      "Epoch: 004, Train: 0.5577, Val: 0.5424, Test: 0.5434, Loss: 0.692911684513092\n",
      "Epoch: 005, Train: 0.5594, Val: 0.5429, Test: 0.5439, Loss: 0.6930158138275146\n",
      "Epoch: 006, Train: 0.5630, Val: 0.5432, Test: 0.5443, Loss: 0.6929696202278137\n",
      "Epoch: 007, Train: 0.5443, Val: 0.5441, Test: 0.5447, Loss: 0.6929556727409363\n",
      "Epoch: 008, Train: 0.5538, Val: 0.5447, Test: 0.5451, Loss: 0.6929647922515869\n",
      "Epoch: 009, Train: 0.5713, Val: 0.5459, Test: 0.5455, Loss: 0.6929366588592529\n",
      "Epoch: 010, Train: 0.5703, Val: 0.5467, Test: 0.5459, Loss: 0.6929859519004822\n",
      "Epoch: 011, Train: 0.5655, Val: 0.5475, Test: 0.5461, Loss: 0.6929080486297607\n",
      "Epoch: 012, Train: 0.5728, Val: 0.5479, Test: 0.5463, Loss: 0.6929208040237427\n",
      "Epoch: 013, Train: 0.5793, Val: 0.5485, Test: 0.5466, Loss: 0.6929091811180115\n",
      "Epoch: 014, Train: 0.5739, Val: 0.5494, Test: 0.5470, Loss: 0.6929243803024292\n",
      "Epoch: 015, Train: 0.5714, Val: 0.5502, Test: 0.5471, Loss: 0.6929064393043518\n",
      "Epoch: 016, Train: 0.5788, Val: 0.5511, Test: 0.5475, Loss: 0.6928764581680298\n",
      "Epoch: 017, Train: 0.5744, Val: 0.5518, Test: 0.5477, Loss: 0.6928655505180359\n",
      "Epoch: 018, Train: 0.5788, Val: 0.5523, Test: 0.5479, Loss: 0.6928243637084961\n",
      "Epoch: 019, Train: 0.5719, Val: 0.5530, Test: 0.5484, Loss: 0.6928250193595886\n",
      "Epoch: 020, Train: 0.5796, Val: 0.5533, Test: 0.5487, Loss: 0.6928630471229553\n",
      "Epoch: 021, Train: 0.5845, Val: 0.5541, Test: 0.5491, Loss: 0.6927890181541443\n",
      "Epoch: 022, Train: 0.5823, Val: 0.5545, Test: 0.5493, Loss: 0.6928123235702515\n",
      "Epoch: 023, Train: 0.5784, Val: 0.5550, Test: 0.5495, Loss: 0.6927917003631592\n",
      "Epoch: 024, Train: 0.5973, Val: 0.5555, Test: 0.5496, Loss: 0.6927290558815002\n",
      "Epoch: 025, Train: 0.5884, Val: 0.5558, Test: 0.5498, Loss: 0.6927274465560913\n",
      "Epoch: 026, Train: 0.5982, Val: 0.5561, Test: 0.5500, Loss: 0.6926369667053223\n",
      "Epoch: 027, Train: 0.5820, Val: 0.5567, Test: 0.5502, Loss: 0.6925781965255737\n",
      "Epoch: 028, Train: 0.5928, Val: 0.5573, Test: 0.5503, Loss: 0.6926374435424805\n",
      "Epoch: 029, Train: 0.5932, Val: 0.5575, Test: 0.5505, Loss: 0.6926783323287964\n",
      "Epoch: 030, Train: 0.5962, Val: 0.5578, Test: 0.5508, Loss: 0.6926188468933105\n",
      "Epoch: 031, Train: 0.6079, Val: 0.5580, Test: 0.5512, Loss: 0.6925864219665527\n",
      "Epoch: 032, Train: 0.6041, Val: 0.5580, Test: 0.5515, Loss: 0.6925614476203918\n",
      "Epoch: 033, Train: 0.6032, Val: 0.5577, Test: 0.5518, Loss: 0.6923878788948059\n",
      "Epoch: 034, Train: 0.6021, Val: 0.5575, Test: 0.5522, Loss: 0.6924198269844055\n",
      "Epoch: 035, Train: 0.5998, Val: 0.5573, Test: 0.5525, Loss: 0.6924680471420288\n",
      "Epoch: 036, Train: 0.5956, Val: 0.5577, Test: 0.5528, Loss: 0.6924338340759277\n",
      "Epoch: 037, Train: 0.6125, Val: 0.5574, Test: 0.5534, Loss: 0.6923313736915588\n",
      "Epoch: 038, Train: 0.6162, Val: 0.5577, Test: 0.5540, Loss: 0.6922208070755005\n",
      "Epoch: 039, Train: 0.6159, Val: 0.5575, Test: 0.5548, Loss: 0.6921758055686951\n",
      "Epoch: 040, Train: 0.6129, Val: 0.5574, Test: 0.5555, Loss: 0.6921308636665344\n",
      "Epoch: 041, Train: 0.6198, Val: 0.5575, Test: 0.5561, Loss: 0.6920880079269409\n",
      "Epoch: 042, Train: 0.6105, Val: 0.5580, Test: 0.5571, Loss: 0.6920261383056641\n",
      "Epoch: 043, Train: 0.6127, Val: 0.5583, Test: 0.5581, Loss: 0.6917962431907654\n",
      "Epoch: 044, Train: 0.6180, Val: 0.5585, Test: 0.5593, Loss: 0.6918795704841614\n",
      "Epoch: 045, Train: 0.6193, Val: 0.5589, Test: 0.5601, Loss: 0.6918977499008179\n",
      "Epoch: 046, Train: 0.6229, Val: 0.5587, Test: 0.5613, Loss: 0.6917514204978943\n",
      "Epoch: 047, Train: 0.6301, Val: 0.5588, Test: 0.5625, Loss: 0.6916201710700989\n",
      "Epoch: 048, Train: 0.6313, Val: 0.5591, Test: 0.5636, Loss: 0.6916443109512329\n",
      "Epoch: 049, Train: 0.6259, Val: 0.5598, Test: 0.5648, Loss: 0.6914628148078918\n",
      "Epoch: 050, Train: 0.6173, Val: 0.5603, Test: 0.5661, Loss: 0.6915557980537415\n",
      "Epoch: 051, Train: 0.6270, Val: 0.5611, Test: 0.5673, Loss: 0.6912547945976257\n",
      "Epoch: 052, Train: 0.6263, Val: 0.5613, Test: 0.5685, Loss: 0.690937340259552\n",
      "Epoch: 053, Train: 0.6382, Val: 0.5622, Test: 0.5696, Loss: 0.6909784078598022\n",
      "Epoch: 054, Train: 0.6361, Val: 0.5627, Test: 0.5708, Loss: 0.6908580660820007\n",
      "Epoch: 055, Train: 0.6319, Val: 0.5630, Test: 0.5723, Loss: 0.6913658976554871\n",
      "Epoch: 056, Train: 0.6339, Val: 0.5641, Test: 0.5737, Loss: 0.6907703876495361\n",
      "Epoch: 057, Train: 0.6322, Val: 0.5650, Test: 0.5748, Loss: 0.6902065277099609\n",
      "Epoch: 058, Train: 0.6357, Val: 0.5659, Test: 0.5760, Loss: 0.6903655529022217\n",
      "Epoch: 059, Train: 0.6470, Val: 0.5667, Test: 0.5772, Loss: 0.6900197863578796\n",
      "Epoch: 060, Train: 0.6505, Val: 0.5674, Test: 0.5784, Loss: 0.6900460720062256\n",
      "Epoch: 061, Train: 0.6404, Val: 0.5678, Test: 0.5796, Loss: 0.6898162961006165\n",
      "Epoch: 062, Train: 0.6355, Val: 0.5688, Test: 0.5807, Loss: 0.6897856593132019\n",
      "Epoch: 063, Train: 0.6346, Val: 0.5693, Test: 0.5817, Loss: 0.6893499493598938\n",
      "Epoch: 064, Train: 0.6453, Val: 0.5698, Test: 0.5829, Loss: 0.6891196966171265\n",
      "Epoch: 065, Train: 0.6495, Val: 0.5704, Test: 0.5839, Loss: 0.6888810992240906\n",
      "Epoch: 066, Train: 0.6449, Val: 0.5714, Test: 0.5850, Loss: 0.6885324716567993\n",
      "Epoch: 067, Train: 0.6393, Val: 0.5723, Test: 0.5860, Loss: 0.6879283785820007\n",
      "Epoch: 068, Train: 0.6521, Val: 0.5733, Test: 0.5870, Loss: 0.6879096627235413\n",
      "Epoch: 069, Train: 0.6488, Val: 0.5743, Test: 0.5878, Loss: 0.6878958940505981\n",
      "Epoch: 070, Train: 0.6466, Val: 0.5751, Test: 0.5888, Loss: 0.6875074505805969\n",
      "Epoch: 071, Train: 0.6611, Val: 0.5763, Test: 0.5899, Loss: 0.6873077154159546\n",
      "Epoch: 072, Train: 0.6461, Val: 0.5774, Test: 0.5909, Loss: 0.6864189505577087\n",
      "Epoch: 073, Train: 0.6601, Val: 0.5786, Test: 0.5921, Loss: 0.6860195994377136\n",
      "Epoch: 074, Train: 0.6675, Val: 0.5805, Test: 0.5933, Loss: 0.686062753200531\n",
      "Epoch: 075, Train: 0.6606, Val: 0.5816, Test: 0.5945, Loss: 0.6846186518669128\n",
      "Epoch: 076, Train: 0.6462, Val: 0.5825, Test: 0.5957, Loss: 0.6845111846923828\n",
      "Epoch: 077, Train: 0.6635, Val: 0.5838, Test: 0.5970, Loss: 0.684226930141449\n",
      "Epoch: 078, Train: 0.6551, Val: 0.5854, Test: 0.5985, Loss: 0.6833392381668091\n",
      "Epoch: 079, Train: 0.6623, Val: 0.5863, Test: 0.5996, Loss: 0.681663453578949\n",
      "Epoch: 080, Train: 0.6571, Val: 0.5878, Test: 0.6011, Loss: 0.6825706958770752\n",
      "Epoch: 081, Train: 0.6639, Val: 0.5894, Test: 0.6029, Loss: 0.6813477277755737\n",
      "Epoch: 082, Train: 0.6625, Val: 0.5909, Test: 0.6045, Loss: 0.6793225407600403\n",
      "Epoch: 083, Train: 0.6696, Val: 0.5926, Test: 0.6064, Loss: 0.6797640323638916\n",
      "Epoch: 084, Train: 0.6691, Val: 0.5951, Test: 0.6089, Loss: 0.6787273287773132\n",
      "Epoch: 085, Train: 0.6714, Val: 0.5982, Test: 0.6119, Loss: 0.677528440952301\n",
      "Epoch: 086, Train: 0.6781, Val: 0.6012, Test: 0.6155, Loss: 0.6754906177520752\n",
      "Epoch: 087, Train: 0.6835, Val: 0.6045, Test: 0.6199, Loss: 0.6742434501647949\n",
      "Epoch: 088, Train: 0.6876, Val: 0.6089, Test: 0.6250, Loss: 0.674199104309082\n",
      "Epoch: 089, Train: 0.6865, Val: 0.6144, Test: 0.6310, Loss: 0.6722720861434937\n",
      "Epoch: 090, Train: 0.6861, Val: 0.6206, Test: 0.6377, Loss: 0.669204831123352\n",
      "Epoch: 091, Train: 0.6951, Val: 0.6270, Test: 0.6446, Loss: 0.6651440858840942\n",
      "Epoch: 092, Train: 0.6992, Val: 0.6333, Test: 0.6513, Loss: 0.6654133200645447\n",
      "Epoch: 093, Train: 0.7082, Val: 0.6400, Test: 0.6589, Loss: 0.6633010506629944\n",
      "Epoch: 094, Train: 0.7020, Val: 0.6472, Test: 0.6667, Loss: 0.6615661978721619\n",
      "Epoch: 095, Train: 0.7284, Val: 0.6554, Test: 0.6750, Loss: 0.6599288582801819\n",
      "Epoch: 096, Train: 0.7294, Val: 0.6631, Test: 0.6825, Loss: 0.6568361520767212\n",
      "Epoch: 097, Train: 0.7344, Val: 0.6683, Test: 0.6879, Loss: 0.6523090600967407\n",
      "Epoch: 098, Train: 0.7353, Val: 0.6730, Test: 0.6938, Loss: 0.6540626883506775\n",
      "Epoch: 099, Train: 0.7384, Val: 0.6771, Test: 0.6971, Loss: 0.6465598940849304\n",
      "Epoch: 100, Train: 0.7369, Val: 0.6784, Test: 0.6992, Loss: 0.6397441029548645\n",
      "Epoch: 101, Train: 0.7481, Val: 0.6795, Test: 0.7003, Loss: 0.6376416087150574\n",
      "Epoch: 102, Train: 0.7460, Val: 0.6812, Test: 0.7019, Loss: 0.6376039981842041\n",
      "Epoch: 103, Train: 0.7427, Val: 0.6832, Test: 0.7036, Loss: 0.63442063331604\n",
      "Epoch: 104, Train: 0.7518, Val: 0.6834, Test: 0.7047, Loss: 0.6209152936935425\n",
      "Epoch: 105, Train: 0.7406, Val: 0.6837, Test: 0.7061, Loss: 0.6204434633255005\n",
      "Epoch: 106, Train: 0.7382, Val: 0.6839, Test: 0.7073, Loss: 0.62674480676651\n",
      "Epoch: 107, Train: 0.7532, Val: 0.6842, Test: 0.7075, Loss: 0.6220774054527283\n",
      "Epoch: 108, Train: 0.7540, Val: 0.6844, Test: 0.7082, Loss: 0.6155555248260498\n",
      "Epoch: 109, Train: 0.7456, Val: 0.6854, Test: 0.7098, Loss: 0.6229535341262817\n",
      "Epoch: 110, Train: 0.7676, Val: 0.6859, Test: 0.7109, Loss: 0.6287565231323242\n",
      "Epoch: 111, Train: 0.7456, Val: 0.6866, Test: 0.7121, Loss: 0.6160032749176025\n",
      "Epoch: 112, Train: 0.7385, Val: 0.6874, Test: 0.7133, Loss: 0.6070438623428345\n",
      "Epoch: 113, Train: 0.7557, Val: 0.6876, Test: 0.7146, Loss: 0.6178596615791321\n",
      "Epoch: 114, Train: 0.7610, Val: 0.6891, Test: 0.7171, Loss: 0.6093465685844421\n",
      "Epoch: 115, Train: 0.7673, Val: 0.6910, Test: 0.7215, Loss: 0.6013707518577576\n",
      "Epoch: 116, Train: 0.7816, Val: 0.6918, Test: 0.7248, Loss: 0.6063439846038818\n",
      "Epoch: 117, Train: 0.7828, Val: 0.6931, Test: 0.7273, Loss: 0.6050513386726379\n",
      "Epoch: 118, Train: 0.7778, Val: 0.6941, Test: 0.7286, Loss: 0.5997897982597351\n",
      "Epoch: 119, Train: 0.7876, Val: 0.6954, Test: 0.7302, Loss: 0.5917118191719055\n",
      "Epoch: 120, Train: 0.7869, Val: 0.6969, Test: 0.7320, Loss: 0.6024981737136841\n",
      "Epoch: 121, Train: 0.7926, Val: 0.6985, Test: 0.7340, Loss: 0.6046048402786255\n",
      "Epoch: 122, Train: 0.7994, Val: 0.7003, Test: 0.7360, Loss: 0.5851894617080688\n",
      "Epoch: 123, Train: 0.7982, Val: 0.7018, Test: 0.7376, Loss: 0.5919445157051086\n",
      "Epoch: 124, Train: 0.7909, Val: 0.7032, Test: 0.7390, Loss: 0.5812060236930847\n",
      "Epoch: 125, Train: 0.8006, Val: 0.7036, Test: 0.7389, Loss: 0.5891010761260986\n",
      "Epoch: 126, Train: 0.7999, Val: 0.7051, Test: 0.7399, Loss: 0.5911628603935242\n",
      "Epoch: 127, Train: 0.8039, Val: 0.7075, Test: 0.7416, Loss: 0.5824114680290222\n",
      "Epoch: 128, Train: 0.8092, Val: 0.7096, Test: 0.7425, Loss: 0.5835140943527222\n",
      "Epoch: 129, Train: 0.8108, Val: 0.7106, Test: 0.7432, Loss: 0.5842667818069458\n",
      "Epoch: 130, Train: 0.8241, Val: 0.7114, Test: 0.7434, Loss: 0.5840399265289307\n",
      "Epoch: 131, Train: 0.8133, Val: 0.7101, Test: 0.7413, Loss: 0.5727593898773193\n",
      "Epoch: 132, Train: 0.8119, Val: 0.7091, Test: 0.7386, Loss: 0.5762728452682495\n",
      "Epoch: 133, Train: 0.8215, Val: 0.7100, Test: 0.7390, Loss: 0.5738840103149414\n",
      "Epoch: 134, Train: 0.8183, Val: 0.7128, Test: 0.7416, Loss: 0.5668927431106567\n",
      "Epoch: 135, Train: 0.8298, Val: 0.7155, Test: 0.7443, Loss: 0.5744336843490601\n",
      "Epoch: 136, Train: 0.8271, Val: 0.7167, Test: 0.7447, Loss: 0.5708880424499512\n",
      "Epoch: 137, Train: 0.8255, Val: 0.7164, Test: 0.7440, Loss: 0.5716730952262878\n",
      "Epoch: 138, Train: 0.8294, Val: 0.7131, Test: 0.7402, Loss: 0.5643101930618286\n",
      "Epoch: 139, Train: 0.8390, Val: 0.7128, Test: 0.7395, Loss: 0.566378116607666\n",
      "Epoch: 140, Train: 0.8328, Val: 0.7169, Test: 0.7433, Loss: 0.5661064386367798\n",
      "Epoch: 141, Train: 0.8378, Val: 0.7213, Test: 0.7473, Loss: 0.5604500770568848\n",
      "Epoch: 142, Train: 0.8432, Val: 0.7229, Test: 0.7487, Loss: 0.5661085844039917\n",
      "Epoch: 143, Train: 0.8436, Val: 0.7234, Test: 0.7493, Loss: 0.5603146553039551\n",
      "Epoch: 144, Train: 0.8422, Val: 0.7229, Test: 0.7488, Loss: 0.553178071975708\n",
      "Epoch: 145, Train: 0.8530, Val: 0.7213, Test: 0.7482, Loss: 0.563292384147644\n",
      "Epoch: 146, Train: 0.8599, Val: 0.7215, Test: 0.7481, Loss: 0.5545362234115601\n",
      "Epoch: 147, Train: 0.8570, Val: 0.7257, Test: 0.7514, Loss: 0.5544596910476685\n",
      "Epoch: 148, Train: 0.8552, Val: 0.7283, Test: 0.7530, Loss: 0.5546279549598694\n",
      "Epoch: 149, Train: 0.8659, Val: 0.7280, Test: 0.7530, Loss: 0.5476570129394531\n",
      "Epoch: 150, Train: 0.8498, Val: 0.7251, Test: 0.7510, Loss: 0.5520760416984558\n",
      "Epoch: 151, Train: 0.8588, Val: 0.7212, Test: 0.7472, Loss: 0.5390874743461609\n",
      "Epoch: 152, Train: 0.8573, Val: 0.7211, Test: 0.7472, Loss: 0.549604594707489\n",
      "Epoch: 153, Train: 0.8616, Val: 0.7258, Test: 0.7511, Loss: 0.5429971814155579\n",
      "Epoch: 154, Train: 0.8641, Val: 0.7302, Test: 0.7540, Loss: 0.543861985206604\n",
      "Epoch: 155, Train: 0.8631, Val: 0.7302, Test: 0.7545, Loss: 0.5437316298484802\n",
      "Epoch: 156, Train: 0.8643, Val: 0.7288, Test: 0.7531, Loss: 0.5418906807899475\n",
      "Epoch: 157, Train: 0.8681, Val: 0.7245, Test: 0.7487, Loss: 0.5379639267921448\n",
      "Epoch: 158, Train: 0.8718, Val: 0.7228, Test: 0.7472, Loss: 0.5382258892059326\n",
      "Epoch: 159, Train: 0.8666, Val: 0.7252, Test: 0.7493, Loss: 0.5342247486114502\n",
      "Epoch: 160, Train: 0.8791, Val: 0.7294, Test: 0.7532, Loss: 0.533492386341095\n",
      "Epoch: 161, Train: 0.8705, Val: 0.7284, Test: 0.7526, Loss: 0.5476093888282776\n",
      "Epoch: 162, Train: 0.8778, Val: 0.7283, Test: 0.7526, Loss: 0.5349440574645996\n",
      "Epoch: 163, Train: 0.8663, Val: 0.7260, Test: 0.7508, Loss: 0.5389660596847534\n",
      "Epoch: 164, Train: 0.8722, Val: 0.7237, Test: 0.7485, Loss: 0.5275857448577881\n",
      "Epoch: 165, Train: 0.8747, Val: 0.7237, Test: 0.7485, Loss: 0.5451138019561768\n",
      "Epoch: 166, Train: 0.8746, Val: 0.7294, Test: 0.7528, Loss: 0.542015016078949\n",
      "Epoch: 167, Train: 0.8761, Val: 0.7340, Test: 0.7560, Loss: 0.5289369821548462\n",
      "Epoch: 168, Train: 0.8859, Val: 0.7335, Test: 0.7556, Loss: 0.5313538312911987\n",
      "Epoch: 169, Train: 0.8870, Val: 0.7298, Test: 0.7523, Loss: 0.5311650037765503\n",
      "Epoch: 170, Train: 0.8868, Val: 0.7261, Test: 0.7488, Loss: 0.5373271107673645\n",
      "Epoch: 171, Train: 0.8816, Val: 0.7240, Test: 0.7471, Loss: 0.5164431929588318\n",
      "Epoch: 172, Train: 0.8798, Val: 0.7281, Test: 0.7511, Loss: 0.5216556787490845\n",
      "Epoch: 173, Train: 0.8908, Val: 0.7334, Test: 0.7555, Loss: 0.5265358090400696\n",
      "Epoch: 174, Train: 0.8880, Val: 0.7356, Test: 0.7572, Loss: 0.529121458530426\n",
      "Epoch: 175, Train: 0.8820, Val: 0.7345, Test: 0.7563, Loss: 0.5107264518737793\n",
      "Epoch: 176, Train: 0.8937, Val: 0.7311, Test: 0.7532, Loss: 0.5251190066337585\n",
      "Epoch: 177, Train: 0.8881, Val: 0.7252, Test: 0.7479, Loss: 0.5174374580383301\n",
      "Epoch: 178, Train: 0.8970, Val: 0.7245, Test: 0.7466, Loss: 0.5194377303123474\n",
      "Epoch: 179, Train: 0.8952, Val: 0.7317, Test: 0.7532, Loss: 0.525752067565918\n",
      "Epoch: 180, Train: 0.9016, Val: 0.7359, Test: 0.7565, Loss: 0.5239531397819519\n",
      "Epoch: 181, Train: 0.8923, Val: 0.7339, Test: 0.7541, Loss: 0.5162546634674072\n",
      "Epoch: 182, Train: 0.9012, Val: 0.7322, Test: 0.7520, Loss: 0.5149680972099304\n",
      "Epoch: 183, Train: 0.8971, Val: 0.7312, Test: 0.7507, Loss: 0.5195671916007996\n",
      "Epoch: 184, Train: 0.9018, Val: 0.7334, Test: 0.7531, Loss: 0.5078951716423035\n",
      "Epoch: 185, Train: 0.9012, Val: 0.7356, Test: 0.7547, Loss: 0.517343282699585\n",
      "Epoch: 186, Train: 0.9018, Val: 0.7352, Test: 0.7548, Loss: 0.51859450340271\n",
      "Epoch: 187, Train: 0.9082, Val: 0.7307, Test: 0.7510, Loss: 0.5130800008773804\n",
      "Epoch: 188, Train: 0.9069, Val: 0.7311, Test: 0.7507, Loss: 0.5072763562202454\n",
      "Epoch: 189, Train: 0.9054, Val: 0.7338, Test: 0.7523, Loss: 0.5078652501106262\n",
      "Epoch: 190, Train: 0.9021, Val: 0.7320, Test: 0.7502, Loss: 0.5095203518867493\n",
      "Epoch: 191, Train: 0.9000, Val: 0.7292, Test: 0.7470, Loss: 0.5072373151779175\n",
      "Epoch: 192, Train: 0.9098, Val: 0.7315, Test: 0.7496, Loss: 0.5207746624946594\n",
      "Epoch: 193, Train: 0.9124, Val: 0.7352, Test: 0.7540, Loss: 0.5204772353172302\n",
      "Epoch: 194, Train: 0.9121, Val: 0.7364, Test: 0.7563, Loss: 0.5060431957244873\n",
      "Epoch: 195, Train: 0.9127, Val: 0.7314, Test: 0.7527, Loss: 0.5067796111106873\n",
      "Epoch: 196, Train: 0.9074, Val: 0.7254, Test: 0.7484, Loss: 0.5065529942512512\n",
      "Epoch: 197, Train: 0.9099, Val: 0.7270, Test: 0.7487, Loss: 0.5093963742256165\n",
      "Epoch: 198, Train: 0.9182, Val: 0.7378, Test: 0.7557, Loss: 0.4952718913555145\n",
      "Epoch: 199, Train: 0.9169, Val: 0.7419, Test: 0.7571, Loss: 0.4918716549873352\n",
      "Train: 0.9134, Val: 0.7419, Test: 0.7571\n"
     ]
    }
   ],
   "source": [
    "pyg_dataset = Planetoid('./tmp/cora', 'Cora')\n",
    "graphs = GraphDataset.pyg_to_graphs(pyg_dataset)\n",
    "\n",
    "dataset = GraphDataset(\n",
    "        graphs,\n",
    "        task='link_pred',\n",
    "        edge_train_mode=\"disjoint\"\n",
    "    )\n",
    "datasets = {}\n",
    "datasets['train'], datasets['val'], datasets['test']= dataset.split(\n",
    "            transductive=True, split_ratio=[0.85, 0.05, 0.1])\n",
    "input_dim = datasets['train'].num_node_features\n",
    "num_classes = datasets['train'].num_edge_labels\n",
    "\n",
    "model = LinkPredModel(input_dim, args[\"hidden_dim\"], num_classes).to(args[\"device\"])\n",
    "model.reset_parameters()\n",
    "\n",
    "optimizer = torch.optim.SGD(model.parameters(), lr=0.1, momentum=0.9, weight_decay=5e-4)\n",
    "\n",
    "dataloaders = {split: DataLoader(\n",
    "            ds, collate_fn=Batch.collate([]),\n",
    "            batch_size=1, shuffle=(split=='train'))\n",
    "            for split, ds in datasets.items()}\n",
    "best_model = train(model, dataloaders, optimizer, args)\n",
    "log = \"Train: {:.4f}, Val: {:.4f}, Test: {:.4f}\"\n",
    "best_train_roc = test(best_model, dataloaders['train'], args)\n",
    "best_val_roc = test(best_model, dataloaders['val'], args)\n",
    "best_test_roc = test(best_model, dataloaders['test'], args)\n",
    "print(log.format(best_train_roc, best_val_roc, best_test_roc))"
   ]
  },
  {
   "cell_type": "markdown",
   "metadata": {
    "id": "j5brlsKElP0_"
   },
   "source": [
    "## Question 4: What is the maximum ROC-AUC score you could get for the best_model on test set? (13 points)\n",
    "\n",
    "Submit your answers on Gradescope."
   ]
  }
 ],
 "metadata": {
  "accelerator": "GPU",
  "colab": {
   "collapsed_sections": [],
   "machine_shape": "hm",
   "name": "CS224W - Colab 3.ipynb",
   "provenance": [],
   "toc_visible": true
  },
  "kernelspec": {
   "display_name": "Python 3",
   "language": "python",
   "name": "python3"
  },
  "language_info": {
   "codemirror_mode": {
    "name": "ipython",
    "version": 3
   },
   "file_extension": ".py",
   "mimetype": "text/x-python",
   "name": "python",
   "nbconvert_exporter": "python",
   "pygments_lexer": "ipython3",
   "version": "3.7.10"
  }
 },
 "nbformat": 4,
 "nbformat_minor": 1
}
